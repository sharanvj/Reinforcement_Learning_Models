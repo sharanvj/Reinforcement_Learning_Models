{
  "nbformat": 4,
  "nbformat_minor": 0,
  "metadata": {
    "colab": {
      "name": "Stohastic_SARSA.ipynb",
      "provenance": [],
      "collapsed_sections": []
    },
    "kernelspec": {
      "name": "python3",
      "display_name": "Python 3"
    },
    "language_info": {
      "name": "python"
    }
  },
  "cells": [
    {
      "cell_type": "code",
      "source": [
        "##\"I certify that the code and data in this assignment were generated independently, using only the tools and resources defined in the course and that I did not receive any external help, coaching or contributions during the production of this work.\""
      ],
      "metadata": {
        "id": "suSL9Jnr19qy"
      },
      "execution_count": 13,
      "outputs": []
    },
    {
      "cell_type": "code",
      "execution_count": 14,
      "metadata": {
        "id": "NcGwhNsiz5Nm"
      },
      "outputs": [],
      "source": [
        "import numpy as np\n",
        "import matplotlib.pyplot as plt\n",
        "import gym\n",
        "from gym import spaces\n",
        "from google.colab import widgets\n",
        "import time"
      ]
    },
    {
      "cell_type": "code",
      "source": [
        "class GridEnvironment(gym.Env):\n",
        "    metadata = { 'render.modes': [] }\n",
        "    \n",
        "    def __init__(self):\n",
        "        self.observation_space = spaces.Discrete(16)\n",
        "        self.action_space = spaces.Discrete(4)\n",
        "        self.max_timesteps = 250\n",
        "        self.reward= 0\n",
        "\n",
        "    def reset(self):\n",
        "        self.timestep = 0\n",
        "        self.agent_pos = [0, 0]\n",
        "        pos= self.agent_pos[0]*4+self.agent_pos[1]\n",
        "        self.goal_pos = [3, 3]\n",
        "        self.wall1 = [1,1]\n",
        "        self.wall2 = [2,2]\n",
        "        self.state = np.zeros([4,4])\n",
        "        self.state[tuple(self.agent_pos)] = 1\n",
        "        self.state[tuple(self.goal_pos)] = 3\n",
        "        self.state[tuple(self.wall1)] = 5\n",
        "        self.state[tuple(self.wall2)] = 5\n",
        "        self.reward=1\n",
        "        observation = self.state.flatten()\n",
        "        return pos\n",
        "    \n",
        "    def step(self, action):\n",
        "        if action == 0:\n",
        "          self.agent_pos[0] += 1\n",
        "          if self.agent_pos[0] == 4:\n",
        "            self.agent_pos[0] -= 1\n",
        "        if action == 1:\n",
        "          self.agent_pos[0] -= 1\n",
        "          if self.agent_pos[0] == -1:\n",
        "            self.agent_pos[0] += 1\n",
        "        if action == 2:\n",
        "          self.agent_pos[1] += 1\n",
        "          if self.agent_pos[1] == 4:\n",
        "            self.agent_pos[1] -= 1\n",
        "        if action == 3:\n",
        "          self.agent_pos[1] -= np.random.randint(0,1)\n",
        "          if self.agent_pos[1] == -1:\n",
        "            self.agent_pos[1] += 1\n",
        "        s_table=np.array([[0,1,2,3],[4,5,6,7],[8,9,10,11],[12,13,14,15]])\n",
        "        npos = s_table[tuple(self.agent_pos)]\n",
        "        self.agent_pos = np.clip(self.agent_pos, 0, 3)\n",
        "        self.state = np.zeros((4,4))\n",
        "        self.state[tuple(self.agent_pos)] = 1\n",
        "        self.state[tuple(self.goal_pos)] = 3\n",
        "        \n",
        "        r_table1= np.array([[-1,-1,-1,-1],[-1,-50,-1,-1],[-1,-1,-50,-1],[-1,-1,-1,100]])\n",
        "        r_table2= np.array([[-1,-1,-1,-1],[-1,-1,-50,-1],[-1,-50,-1,-1],[-1,-1,-1,100]])\n",
        "        if self.timestep%2==0:\n",
        "          self.wall1 = [2,2]\n",
        "          self.wall2 = [1,1]\n",
        "          self.state[tuple(self.wall1)] = 5\n",
        "          self.state[tuple(self.wall2)] = 5\n",
        "          reward= r_table1[tuple(self.agent_pos)]\n",
        "        else:\n",
        "          self.wall1 = [2,1]\n",
        "          self.wall2 = [1,2]\n",
        "          self.state[tuple(self.wall1)] = 5\n",
        "          self.state[tuple(self.wall2)] = 5\n",
        "          reward= r_table2[tuple(self.agent_pos)]\n",
        "        self.timestep += 1\n",
        "        done = True if npos == 15 else False\n",
        "        info = {}\n",
        "        return npos, reward, done, info\n",
        "        \n",
        "    def render(self):\n",
        "        self.state[tuple(self.agent_pos)] = 1\n",
        "        self.state[tuple(self.goal_pos)] = 3\n",
        "        self.state[tuple(self.wall1)] = 5\n",
        "        self.state[tuple(self.wall2)] = 5\n",
        "        plt.imshow(self.state)"
      ],
      "metadata": {
        "id": "zav9etlIz8m0"
      },
      "execution_count": 15,
      "outputs": []
    },
    {
      "cell_type": "code",
      "source": [
        "#SARSA Algorithm\n",
        "from matplotlib import figure\n",
        "env = GridEnvironment()\n",
        "#Creating a Q_Table\n",
        "q1_table = np.zeros([env.observation_space.n, env.action_space.n])\n",
        "output_grid = widgets.Grid(1, 1)\n",
        "alpha = 0.1\n",
        "gamma = 0.6\n",
        "epsilon = 0.9\n",
        "\n",
        "# For plotting metrics\n",
        "total_epochs=0\n",
        "episodes=1000\n",
        "t_e= []\n",
        "t_r = []\n",
        "t_a=[]\n",
        "all_epochs = 0\n",
        "total_penalties = 0\n",
        "def choose_action(state):\n",
        "    action=0\n",
        "    if np.random.uniform(0, 1) < epsilon:\n",
        "        action = env.action_space.sample()\n",
        "    else:\n",
        "        action = np.argmax(q1_table[state, :])\n",
        "    return action\n",
        "\n",
        "for i in range(episodes):\n",
        "    state1 = env.reset()\n",
        "    action1 = choose_action(state1)\n",
        "    r=0\n",
        "    epochs, penalties, reward, = 0, 0, 0\n",
        "    done = False    \n",
        "    while not done:\n",
        "        state2, reward, done, info = env.step(action1)\n",
        "        action2 = choose_action(state2)          \n",
        "        #Learning the Q-value\n",
        "        q1_table[state1, action1] = q1_table[state1, action1] + alpha * (reward + gamma * q1_table[state2, action2] - q1_table[state1, action1])  \n",
        "        state1 = state2\n",
        "        action1 = action2\n",
        "        if reward == -1:\n",
        "            penalties += 1\n",
        "        epochs += 1\n",
        "        r+=reward\n",
        "        if(i>998):#Displays last iteration/Episode\n",
        "          with output_grid.output_to(0, 0):\n",
        "            output_grid.clear_cell()\n",
        "            env.render()\n",
        "          time.sleep(1)        \n",
        "    t_e.append(epochs) #Timesteps for each Episode\n",
        "    t_r.append(r)#Rewards for each Episode    \n",
        "    total_epochs += epochs\n",
        "    total_penalties += penalties\n",
        "    epsilon= np.exp(-4*i/episodes)\n",
        "    t_a.append(epsilon)  \n",
        "plt.plot(t_r)\n",
        "plt.title('Rewards vs Episodes')\n",
        "plt.xlabel('Episodes')\n",
        "plt.ylabel('Rewards') \n",
        "plt.figure()\n",
        "plt.plot(t_a)\n",
        "plt.title('Epsilon Decay')\n",
        "plt.xlabel('Episodes')\n",
        "plt.ylabel('Episolon Value')         \n",
        "print(penalties)\n",
        "print(\"Model Ready! Training finished.\\n\")\n",
        "print(\"Total Episodes:\",episodes)\n",
        "print(\"Total Timesteps:\",total_epochs)\n",
        "print(\"Total Penalties:\", total_penalties)\n",
        "print(f\"Average timesteps per episode: {total_epochs / episodes}\")\n",
        "print(f\"Average penalties per episode: {total_penalties / episodes}\")\n",
        "print(\"SARSA Table:\\n\", q1_table)\n"
      ],
      "metadata": {
        "colab": {
          "base_uri": "https://localhost:8080/",
          "height": 1000
        },
        "id": "nlcZdaKmz-ah",
        "outputId": "752bbb0e-63d1-4564-fd08-e6f0407e6b93"
      },
      "execution_count": 16,
      "outputs": [
        {
          "output_type": "display_data",
          "data": {
            "text/html": [
              "<style>\n",
              "       table#id6, #id6 > tbody > tr > th, #id6 > tbody > tr > td {\n",
              "         border: 1px solid lightgray;\n",
              "         border-collapse:collapse;\n",
              "         \n",
              "        }</style>"
            ],
            "text/plain": [
              "<IPython.core.display.HTML object>"
            ]
          },
          "metadata": {}
        },
        {
          "output_type": "display_data",
          "data": {
            "text/html": [
              "<table id=id6><tr><td id=id6-0-0></td></tr></table>"
            ],
            "text/plain": [
              "<IPython.core.display.HTML object>"
            ]
          },
          "metadata": {}
        },
        {
          "output_type": "display_data",
          "data": {
            "application/javascript": [
              "window[\"8acc1454-9db9-11ec-8154-0242ac1c0002\"] = google.colab.output.getActiveOutputArea();\n",
              "//# sourceURL=js_1c9aca8661"
            ],
            "text/plain": [
              "<IPython.core.display.Javascript object>"
            ]
          },
          "metadata": {}
        },
        {
          "output_type": "display_data",
          "data": {
            "application/javascript": [
              "window[\"8acceef6-9db9-11ec-8154-0242ac1c0002\"] = document.querySelector(\"#id6-0-0\");\n",
              "//# sourceURL=js_f83b2b6b9b"
            ],
            "text/plain": [
              "<IPython.core.display.Javascript object>"
            ]
          },
          "metadata": {}
        },
        {
          "output_type": "display_data",
          "data": {
            "application/javascript": [
              "window[\"8acdbed0-9db9-11ec-8154-0242ac1c0002\"] = google.colab.output.setActiveOutputArea(window[\"8acceef6-9db9-11ec-8154-0242ac1c0002\"]);\n",
              "//# sourceURL=js_a41f4e9787"
            ],
            "text/plain": [
              "<IPython.core.display.Javascript object>"
            ]
          },
          "metadata": {}
        },
        {
          "output_type": "display_data",
          "data": {
            "application/javascript": [
              "window[\"8ae9cfbc-9db9-11ec-8154-0242ac1c0002\"] = google.colab.output.setActiveOutputArea(window[\"8acc1454-9db9-11ec-8154-0242ac1c0002\"]);\n",
              "//# sourceURL=js_1e9015f095"
            ],
            "text/plain": [
              "<IPython.core.display.Javascript object>"
            ]
          },
          "metadata": {}
        },
        {
          "output_type": "display_data",
          "data": {
            "application/javascript": [
              "window[\"8b8516f2-9db9-11ec-8154-0242ac1c0002\"] = google.colab.output.getActiveOutputArea();\n",
              "//# sourceURL=js_ebe47d6a7b"
            ],
            "text/plain": [
              "<IPython.core.display.Javascript object>"
            ]
          },
          "metadata": {}
        },
        {
          "output_type": "display_data",
          "data": {
            "application/javascript": [
              "window[\"8b856526-9db9-11ec-8154-0242ac1c0002\"] = document.querySelector(\"#id6-0-0\");\n",
              "//# sourceURL=js_5ac1e24c52"
            ],
            "text/plain": [
              "<IPython.core.display.Javascript object>"
            ]
          },
          "metadata": {}
        },
        {
          "output_type": "display_data",
          "data": {
            "application/javascript": [
              "window[\"8b85e0d2-9db9-11ec-8154-0242ac1c0002\"] = google.colab.output.setActiveOutputArea(window[\"8b856526-9db9-11ec-8154-0242ac1c0002\"]);\n",
              "//# sourceURL=js_69b39f29bd"
            ],
            "text/plain": [
              "<IPython.core.display.Javascript object>"
            ]
          },
          "metadata": {}
        },
        {
          "output_type": "display_data",
          "data": {
            "application/javascript": [
              "window[\"8b9f1ce6-9db9-11ec-8154-0242ac1c0002\"] = google.colab.output.setActiveOutputArea(window[\"8b8516f2-9db9-11ec-8154-0242ac1c0002\"]);\n",
              "//# sourceURL=js_791519e584"
            ],
            "text/plain": [
              "<IPython.core.display.Javascript object>"
            ]
          },
          "metadata": {}
        },
        {
          "output_type": "display_data",
          "data": {
            "application/javascript": [
              "window[\"8c3b24a6-9db9-11ec-8154-0242ac1c0002\"] = google.colab.output.getActiveOutputArea();\n",
              "//# sourceURL=js_f2737b9818"
            ],
            "text/plain": [
              "<IPython.core.display.Javascript object>"
            ]
          },
          "metadata": {}
        },
        {
          "output_type": "display_data",
          "data": {
            "application/javascript": [
              "window[\"8c3b75dc-9db9-11ec-8154-0242ac1c0002\"] = document.querySelector(\"#id6-0-0\");\n",
              "//# sourceURL=js_ade01514b2"
            ],
            "text/plain": [
              "<IPython.core.display.Javascript object>"
            ]
          },
          "metadata": {}
        },
        {
          "output_type": "display_data",
          "data": {
            "application/javascript": [
              "window[\"8c3bce24-9db9-11ec-8154-0242ac1c0002\"] = google.colab.output.setActiveOutputArea(window[\"8c3b75dc-9db9-11ec-8154-0242ac1c0002\"]);\n",
              "//# sourceURL=js_728e3c73cd"
            ],
            "text/plain": [
              "<IPython.core.display.Javascript object>"
            ]
          },
          "metadata": {}
        },
        {
          "output_type": "display_data",
          "data": {
            "application/javascript": [
              "window[\"8c54af52-9db9-11ec-8154-0242ac1c0002\"] = google.colab.output.setActiveOutputArea(window[\"8c3b24a6-9db9-11ec-8154-0242ac1c0002\"]);\n",
              "//# sourceURL=js_e57536615f"
            ],
            "text/plain": [
              "<IPython.core.display.Javascript object>"
            ]
          },
          "metadata": {}
        },
        {
          "output_type": "display_data",
          "data": {
            "application/javascript": [
              "window[\"8cf15f14-9db9-11ec-8154-0242ac1c0002\"] = google.colab.output.getActiveOutputArea();\n",
              "//# sourceURL=js_9526da7266"
            ],
            "text/plain": [
              "<IPython.core.display.Javascript object>"
            ]
          },
          "metadata": {}
        },
        {
          "output_type": "display_data",
          "data": {
            "application/javascript": [
              "window[\"8cf1cefe-9db9-11ec-8154-0242ac1c0002\"] = document.querySelector(\"#id6-0-0\");\n",
              "//# sourceURL=js_0271d3a1fc"
            ],
            "text/plain": [
              "<IPython.core.display.Javascript object>"
            ]
          },
          "metadata": {}
        },
        {
          "output_type": "display_data",
          "data": {
            "application/javascript": [
              "window[\"8cf239ac-9db9-11ec-8154-0242ac1c0002\"] = google.colab.output.setActiveOutputArea(window[\"8cf1cefe-9db9-11ec-8154-0242ac1c0002\"]);\n",
              "//# sourceURL=js_b849eeed3d"
            ],
            "text/plain": [
              "<IPython.core.display.Javascript object>"
            ]
          },
          "metadata": {}
        },
        {
          "output_type": "display_data",
          "data": {
            "application/javascript": [
              "window[\"8d0ac8b4-9db9-11ec-8154-0242ac1c0002\"] = google.colab.output.setActiveOutputArea(window[\"8cf15f14-9db9-11ec-8154-0242ac1c0002\"]);\n",
              "//# sourceURL=js_606becd267"
            ],
            "text/plain": [
              "<IPython.core.display.Javascript object>"
            ]
          },
          "metadata": {}
        },
        {
          "output_type": "display_data",
          "data": {
            "application/javascript": [
              "window[\"8da5a5d2-9db9-11ec-8154-0242ac1c0002\"] = google.colab.output.getActiveOutputArea();\n",
              "//# sourceURL=js_3d2e13f263"
            ],
            "text/plain": [
              "<IPython.core.display.Javascript object>"
            ]
          },
          "metadata": {}
        },
        {
          "output_type": "display_data",
          "data": {
            "application/javascript": [
              "window[\"8da604be-9db9-11ec-8154-0242ac1c0002\"] = document.querySelector(\"#id6-0-0\");\n",
              "//# sourceURL=js_73a70fd9f7"
            ],
            "text/plain": [
              "<IPython.core.display.Javascript object>"
            ]
          },
          "metadata": {}
        },
        {
          "output_type": "display_data",
          "data": {
            "application/javascript": [
              "window[\"8da65dce-9db9-11ec-8154-0242ac1c0002\"] = google.colab.output.setActiveOutputArea(window[\"8da604be-9db9-11ec-8154-0242ac1c0002\"]);\n",
              "//# sourceURL=js_aee5f9b696"
            ],
            "text/plain": [
              "<IPython.core.display.Javascript object>"
            ]
          },
          "metadata": {}
        },
        {
          "output_type": "display_data",
          "data": {
            "application/javascript": [
              "window[\"8dcb00b6-9db9-11ec-8154-0242ac1c0002\"] = google.colab.output.setActiveOutputArea(window[\"8da5a5d2-9db9-11ec-8154-0242ac1c0002\"]);\n",
              "//# sourceURL=js_340a2c7794"
            ],
            "text/plain": [
              "<IPython.core.display.Javascript object>"
            ]
          },
          "metadata": {}
        },
        {
          "output_type": "display_data",
          "data": {
            "application/javascript": [
              "window[\"8e67a010-9db9-11ec-8154-0242ac1c0002\"] = google.colab.output.getActiveOutputArea();\n",
              "//# sourceURL=js_b895801826"
            ],
            "text/plain": [
              "<IPython.core.display.Javascript object>"
            ]
          },
          "metadata": {}
        },
        {
          "output_type": "display_data",
          "data": {
            "application/javascript": [
              "window[\"8e680456-9db9-11ec-8154-0242ac1c0002\"] = document.querySelector(\"#id6-0-0\");\n",
              "//# sourceURL=js_d0afb4e7b5"
            ],
            "text/plain": [
              "<IPython.core.display.Javascript object>"
            ]
          },
          "metadata": {}
        },
        {
          "output_type": "display_data",
          "data": {
            "application/javascript": [
              "window[\"8e68be64-9db9-11ec-8154-0242ac1c0002\"] = google.colab.output.setActiveOutputArea(window[\"8e680456-9db9-11ec-8154-0242ac1c0002\"]);\n",
              "//# sourceURL=js_c027157f42"
            ],
            "text/plain": [
              "<IPython.core.display.Javascript object>"
            ]
          },
          "metadata": {}
        },
        {
          "output_type": "display_data",
          "data": {
            "image/png": "[encoded data removed]",
            "text/plain": [
              "<Figure size 432x288 with 1 Axes>"
            ]
          },
          "metadata": {
            "needs_background": "light"
          }
        },
        {
          "output_type": "display_data",
          "data": {
            "application/javascript": [
              "window[\"8e80971e-9db9-11ec-8154-0242ac1c0002\"] = google.colab.output.setActiveOutputArea(window[\"8e67a010-9db9-11ec-8154-0242ac1c0002\"]);\n",
              "//# sourceURL=js_479f7fcfdd"
            ],
            "text/plain": [
              "<IPython.core.display.Javascript object>"
            ]
          },
          "metadata": {}
        },
        {
          "output_type": "stream",
          "name": "stdout",
          "text": [
            "5\n",
            "Model Ready! Training finished.\n",
            "\n",
            "Total Episodes: 1000\n",
            "Total Timesteps: 9257\n",
            "Total Penalties: 8040\n",
            "Average timesteps per episode: 9.257\n",
            "Average penalties per episode: 8.04\n",
            "SARSA Table:\n",
            " [[ 4.88942814e+00 -4.43301940e-02 -6.90235550e-01  2.35924108e-01]\n",
            " [-3.04475295e+01 -6.55588947e+00  5.06007991e+00 -5.33231149e+00]\n",
            " [-8.70549601e+00 -1.30574303e+00  1.22937168e+01 -4.36135791e-01]\n",
            " [ 3.01431762e+01  6.12026486e+00  7.78002708e+00  8.96393048e+00]\n",
            " [ 1.01251802e+01  1.29641270e-01 -9.04503091e+00  2.16094938e+00]\n",
            " [-2.90907593e+01  5.06363758e-01 -2.26455751e+01 -4.23128702e+01]\n",
            " [-1.08188359e+01 -4.07479553e+00  2.12631056e+01 -1.90296884e+01]\n",
            " [ 5.62999902e+01  8.44720055e+00  1.87779154e+01  2.01567193e+01]\n",
            " [ 1.90681085e+01  1.98063686e+00 -2.08480722e-01  7.04760527e+00]\n",
            " [ 2.98669427e+01 -2.61079973e+01 -1.31174465e+01 -3.41448113e+01]\n",
            " [ 5.27501694e+01 -2.59349567e+01  2.41051735e+01 -6.62278316e+00]\n",
            " [ 1.00000000e+02  1.75887806e+01  4.81880667e+01  4.30301523e+01]\n",
            " [ 1.44112452e+01  5.11203873e+00  3.41081285e+01  1.40623282e+01]\n",
            " [ 2.33318576e+01  3.31946395e+00  5.89674214e+01  2.70890036e+01]\n",
            " [ 4.89381189e+01  7.71290967e+00  1.00000000e+02  4.69871349e+01]\n",
            " [ 0.00000000e+00  0.00000000e+00  0.00000000e+00  0.00000000e+00]]\n"
          ]
        },
        {
          "output_type": "display_data",
          "data": {
            "image/png": "[encoded data removed]",
            "text/plain": [
              "<Figure size 432x288 with 1 Axes>"
            ]
          },
          "metadata": {
            "needs_background": "light"
          }
        },
        {
          "output_type": "display_data",
          "data": {
            "image/png": "[encoded data removed]",
            "text/plain": [
              "<Figure size 432x288 with 1 Axes>"
            ]
          },
          "metadata": {
            "needs_background": "light"
          }
        }
      ]
    },
    {
      "cell_type": "code",
      "source": [
        "total_epochs, total_penalties = 0, 0\n",
        "episodes = 10\n",
        "t_r1=[]\n",
        "t_e1=[]\n",
        "\n",
        "for _ in range(episodes):\n",
        "    r1=0\n",
        "    state = env.reset()\n",
        "    epochs, penalties1, reward = 0, 0, 0    \n",
        "    done = False    \n",
        "    while not done:\n",
        "        action = np.argmax(q1_table[state])\n",
        "        state, reward, done, info = env.step(action)\n",
        "        if reward == -1:\n",
        "            penalties1 += 1\n",
        "        r1+=reward    \n",
        "        epochs += 1\n",
        "        if(_>8):#Displays last iteration/Episode\n",
        "          with output_grid.output_to(0, 0):\n",
        "            output_grid.clear_cell()\n",
        "            print(state)\n",
        "            print(f\"Episode:\", _)\n",
        "            env.render()  \n",
        "          time.sleep(1)\n",
        "    total_epochs += epochs\n",
        "    total_penalties += penalties1\n",
        "    t_e1.append(epochs) #Timesteps for each Episode\n",
        "    t_r1.append(r1) #Rewards for each Episode    \n",
        "plt.plot(t_r1)\n",
        "plt.title('Rewards vs Episodes')\n",
        "plt.xlabel('Episodes')\n",
        "plt.ylabel('Rewards') \n",
        "plt.figure()\n",
        "plt.plot(t_a)\n",
        "plt.title('Epsilon Decay')\n",
        "plt.xlabel('Episodes')\n",
        "plt.ylabel('Episolon Value')         \n",
        "print(penalties1)\n",
        "print(\"Testing Complete.\\n\")\n",
        "print(\"Total Episodes:\",episodes)\n",
        "print(\"Total Timesteps:\",total_epochs)\n",
        "print(\"Total Penalties:\", total_penalties)\n",
        "b=total_epochs / episodes\n",
        "n=total_penalties / episodes\n",
        "print(\"Average timesteps per episode: \",b)\n",
        "print(\"Average penalties per episode: \",n)"
      ],
      "metadata": {
        "colab": {
          "base_uri": "https://localhost:8080/",
          "height": 1000
        },
        "id": "qKllJK2a0GCT",
        "outputId": "eb489144-a8c8-4be0-b340-39d34759d1e2"
      },
      "execution_count": 19,
      "outputs": [
        {
          "output_type": "display_data",
          "data": {
            "application/javascript": [
              "window[\"94d95ab0-9dc3-11ec-8154-0242ac1c0002\"] = google.colab.output.getActiveOutputArea();\n",
              "//# sourceURL=js_0c6d0f1388"
            ],
            "text/plain": [
              "<IPython.core.display.Javascript object>"
            ]
          },
          "metadata": {}
        },
        {
          "output_type": "display_data",
          "data": {
            "application/javascript": [
              "window[\"94dab928-9dc3-11ec-8154-0242ac1c0002\"] = document.querySelector(\"#id6-0-0\");\n",
              "//# sourceURL=js_44120e6ca6"
            ],
            "text/plain": [
              "<IPython.core.display.Javascript object>"
            ]
          },
          "metadata": {}
        },
        {
          "output_type": "display_data",
          "data": {
            "application/javascript": [
              "window[\"94dd530e-9dc3-11ec-8154-0242ac1c0002\"] = google.colab.output.setActiveOutputArea(window[\"94dab928-9dc3-11ec-8154-0242ac1c0002\"]);\n",
              "//# sourceURL=js_b5fb4ce3ec"
            ],
            "text/plain": [
              "<IPython.core.display.Javascript object>"
            ]
          },
          "metadata": {}
        },
        {
          "output_type": "display_data",
          "data": {
            "application/javascript": [
              "window[\"94f9b56c-9dc3-11ec-8154-0242ac1c0002\"] = google.colab.output.setActiveOutputArea(window[\"94d95ab0-9dc3-11ec-8154-0242ac1c0002\"]);\n",
              "//# sourceURL=js_9ae37e49db"
            ],
            "text/plain": [
              "<IPython.core.display.Javascript object>"
            ]
          },
          "metadata": {}
        },
        {
          "output_type": "display_data",
          "data": {
            "application/javascript": [
              "window[\"95961a56-9dc3-11ec-8154-0242ac1c0002\"] = google.colab.output.getActiveOutputArea();\n",
              "//# sourceURL=js_9fc909d0bd"
            ],
            "text/plain": [
              "<IPython.core.display.Javascript object>"
            ]
          },
          "metadata": {}
        },
        {
          "output_type": "display_data",
          "data": {
            "application/javascript": [
              "window[\"95967a32-9dc3-11ec-8154-0242ac1c0002\"] = document.querySelector(\"#id6-0-0\");\n",
              "//# sourceURL=js_f29c75a8c4"
            ],
            "text/plain": [
              "<IPython.core.display.Javascript object>"
            ]
          },
          "metadata": {}
        },
        {
          "output_type": "display_data",
          "data": {
            "application/javascript": [
              "window[\"95971bea-9dc3-11ec-8154-0242ac1c0002\"] = google.colab.output.setActiveOutputArea(window[\"95967a32-9dc3-11ec-8154-0242ac1c0002\"]);\n",
              "//# sourceURL=js_e8a3d57097"
            ],
            "text/plain": [
              "<IPython.core.display.Javascript object>"
            ]
          },
          "metadata": {}
        },
        {
          "output_type": "display_data",
          "data": {
            "application/javascript": [
              "window[\"95aec5ec-9dc3-11ec-8154-0242ac1c0002\"] = google.colab.output.setActiveOutputArea(window[\"95961a56-9dc3-11ec-8154-0242ac1c0002\"]);\n",
              "//# sourceURL=js_7cce23add0"
            ],
            "text/plain": [
              "<IPython.core.display.Javascript object>"
            ]
          },
          "metadata": {}
        },
        {
          "output_type": "display_data",
          "data": {
            "application/javascript": [
              "window[\"964a01ba-9dc3-11ec-8154-0242ac1c0002\"] = google.colab.output.getActiveOutputArea();\n",
              "//# sourceURL=js_9d760dd11d"
            ],
            "text/plain": [
              "<IPython.core.display.Javascript object>"
            ]
          },
          "metadata": {}
        },
        {
          "output_type": "display_data",
          "data": {
            "application/javascript": [
              "window[\"964a8e6e-9dc3-11ec-8154-0242ac1c0002\"] = document.querySelector(\"#id6-0-0\");\n",
              "//# sourceURL=js_a9610031a4"
            ],
            "text/plain": [
              "<IPython.core.display.Javascript object>"
            ]
          },
          "metadata": {}
        },
        {
          "output_type": "display_data",
          "data": {
            "application/javascript": [
              "window[\"964b0aec-9dc3-11ec-8154-0242ac1c0002\"] = google.colab.output.setActiveOutputArea(window[\"964a8e6e-9dc3-11ec-8154-0242ac1c0002\"]);\n",
              "//# sourceURL=js_f608e57c83"
            ],
            "text/plain": [
              "<IPython.core.display.Javascript object>"
            ]
          },
          "metadata": {}
        },
        {
          "output_type": "display_data",
          "data": {
            "application/javascript": [
              "window[\"96633072-9dc3-11ec-8154-0242ac1c0002\"] = google.colab.output.setActiveOutputArea(window[\"964a01ba-9dc3-11ec-8154-0242ac1c0002\"]);\n",
              "//# sourceURL=js_e733c94f74"
            ],
            "text/plain": [
              "<IPython.core.display.Javascript object>"
            ]
          },
          "metadata": {}
        },
        {
          "output_type": "display_data",
          "data": {
            "application/javascript": [
              "window[\"96ffa88a-9dc3-11ec-8154-0242ac1c0002\"] = google.colab.output.getActiveOutputArea();\n",
              "//# sourceURL=js_a0cf087ecc"
            ],
            "text/plain": [
              "<IPython.core.display.Javascript object>"
            ]
          },
          "metadata": {}
        },
        {
          "output_type": "display_data",
          "data": {
            "application/javascript": [
              "window[\"970023be-9dc3-11ec-8154-0242ac1c0002\"] = document.querySelector(\"#id6-0-0\");\n",
              "//# sourceURL=js_4dc616909c"
            ],
            "text/plain": [
              "<IPython.core.display.Javascript object>"
            ]
          },
          "metadata": {}
        },
        {
          "output_type": "display_data",
          "data": {
            "application/javascript": [
              "window[\"97009d6c-9dc3-11ec-8154-0242ac1c0002\"] = google.colab.output.setActiveOutputArea(window[\"970023be-9dc3-11ec-8154-0242ac1c0002\"]);\n",
              "//# sourceURL=js_be9fc35aeb"
            ],
            "text/plain": [
              "<IPython.core.display.Javascript object>"
            ]
          },
          "metadata": {}
        },
        {
          "output_type": "display_data",
          "data": {
            "application/javascript": [
              "window[\"9719a83e-9dc3-11ec-8154-0242ac1c0002\"] = google.colab.output.setActiveOutputArea(window[\"96ffa88a-9dc3-11ec-8154-0242ac1c0002\"]);\n",
              "//# sourceURL=js_4833b01baa"
            ],
            "text/plain": [
              "<IPython.core.display.Javascript object>"
            ]
          },
          "metadata": {}
        },
        {
          "output_type": "display_data",
          "data": {
            "application/javascript": [
              "window[\"97b46946-9dc3-11ec-8154-0242ac1c0002\"] = google.colab.output.getActiveOutputArea();\n",
              "//# sourceURL=js_9303fb598a"
            ],
            "text/plain": [
              "<IPython.core.display.Javascript object>"
            ]
          },
          "metadata": {}
        },
        {
          "output_type": "display_data",
          "data": {
            "application/javascript": [
              "window[\"97b4b3ce-9dc3-11ec-8154-0242ac1c0002\"] = document.querySelector(\"#id6-0-0\");\n",
              "//# sourceURL=js_8d1e803fdd"
            ],
            "text/plain": [
              "<IPython.core.display.Javascript object>"
            ]
          },
          "metadata": {}
        },
        {
          "output_type": "display_data",
          "data": {
            "application/javascript": [
              "window[\"97b50c70-9dc3-11ec-8154-0242ac1c0002\"] = google.colab.output.setActiveOutputArea(window[\"97b4b3ce-9dc3-11ec-8154-0242ac1c0002\"]);\n",
              "//# sourceURL=js_01ad872aad"
            ],
            "text/plain": [
              "<IPython.core.display.Javascript object>"
            ]
          },
          "metadata": {}
        },
        {
          "output_type": "display_data",
          "data": {
            "application/javascript": [
              "window[\"97ced6c8-9dc3-11ec-8154-0242ac1c0002\"] = google.colab.output.setActiveOutputArea(window[\"97b46946-9dc3-11ec-8154-0242ac1c0002\"]);\n",
              "//# sourceURL=js_bb694b7ce5"
            ],
            "text/plain": [
              "<IPython.core.display.Javascript object>"
            ]
          },
          "metadata": {}
        },
        {
          "output_type": "display_data",
          "data": {
            "application/javascript": [
              "window[\"986b3b26-9dc3-11ec-8154-0242ac1c0002\"] = google.colab.output.getActiveOutputArea();\n",
              "//# sourceURL=js_5a6b98f696"
            ],
            "text/plain": [
              "<IPython.core.display.Javascript object>"
            ]
          },
          "metadata": {}
        },
        {
          "output_type": "display_data",
          "data": {
            "application/javascript": [
              "window[\"986b8dec-9dc3-11ec-8154-0242ac1c0002\"] = document.querySelector(\"#id6-0-0\");\n",
              "//# sourceURL=js_7f0d885788"
            ],
            "text/plain": [
              "<IPython.core.display.Javascript object>"
            ]
          },
          "metadata": {}
        },
        {
          "output_type": "display_data",
          "data": {
            "application/javascript": [
              "window[\"986bfdae-9dc3-11ec-8154-0242ac1c0002\"] = google.colab.output.setActiveOutputArea(window[\"986b8dec-9dc3-11ec-8154-0242ac1c0002\"]);\n",
              "//# sourceURL=js_dbd137d02e"
            ],
            "text/plain": [
              "<IPython.core.display.Javascript object>"
            ]
          },
          "metadata": {}
        },
        {
          "output_type": "stream",
          "name": "stdout",
          "text": [
            "15\n",
            "Episode: 9\n"
          ]
        },
        {
          "output_type": "display_data",
          "data": {
            "image/png": "[encoded data removed]",
            "text/plain": [
              "<Figure size 432x288 with 1 Axes>"
            ]
          },
          "metadata": {
            "needs_background": "light"
          }
        },
        {
          "output_type": "display_data",
          "data": {
            "application/javascript": [
              "window[\"98932a96-9dc3-11ec-8154-0242ac1c0002\"] = google.colab.output.setActiveOutputArea(window[\"986b3b26-9dc3-11ec-8154-0242ac1c0002\"]);\n",
              "//# sourceURL=js_8ca4dcf107"
            ],
            "text/plain": [
              "<IPython.core.display.Javascript object>"
            ]
          },
          "metadata": {}
        },
        {
          "output_type": "stream",
          "name": "stdout",
          "text": [
            "5\n",
            "Testing Complete.\n",
            "\n",
            "Total Episodes: 10\n",
            "Total Timesteps: 60\n",
            "Total Penalties: 50\n",
            "Average timesteps per episode:  6.0\n",
            "Average penalties per episode:  5.0\n"
          ]
        },
        {
          "output_type": "display_data",
          "data": {
            "image/png": "[encoded data removed]",
            "text/plain": [
              "<Figure size 432x288 with 1 Axes>"
            ]
          },
          "metadata": {
            "needs_background": "light"
          }
        },
        {
          "output_type": "display_data",
          "data": {
            "image/png": "[encoded data removed]",
            "text/plain": [
              "<Figure size 432x288 with 1 Axes>"
            ]
          },
          "metadata": {
            "needs_background": "light"
          }
        }
      ]
    },
    {
      "cell_type": "code",
      "source": [
        ""
      ],
      "metadata": {
        "id": "-j4fGW080W7V"
      },
      "execution_count": 18,
      "outputs": []
    }
  ]
}