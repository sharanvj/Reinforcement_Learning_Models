{
  "nbformat": 4,
  "nbformat_minor": 0,
  "metadata": {
    "colab": {
      "name": "Stochastic_Q.ipynb",
      "provenance": [],
      "collapsed_sections": []
    },
    "kernelspec": {
      "name": "python3",
      "display_name": "Python 3"
    },
    "language_info": {
      "name": "python"
    }
  },
  "cells": [
    {
      "cell_type": "code",
      "source": [
        "##\"I certify that the code and data in this assignment were generated independently, using only the tools and resources defined in the course and that I did not receive any external help, coaching or contributions during the production of this work.\""
      ],
      "metadata": {
        "id": "rQyO_H5q1-ok"
      },
      "execution_count": 20,
      "outputs": []
    },
    {
      "cell_type": "code",
      "execution_count": 21,
      "metadata": {
        "id": "k7fAqVD3xa7V"
      },
      "outputs": [],
      "source": [
        "import numpy as np\n",
        "import matplotlib.pyplot as plt\n",
        "import gym\n",
        "from gym import spaces\n",
        "from google.colab import widgets\n",
        "import time"
      ]
    },
    {
      "cell_type": "code",
      "source": [
        "class GridEnvironment(gym.Env):\n",
        "    metadata = { 'render.modes': [] }\n",
        "    \n",
        "    def __init__(self):\n",
        "        self.observation_space = spaces.Discrete(16)\n",
        "        self.action_space = spaces.Discrete(4)\n",
        "        self.max_timesteps = 250\n",
        "        self.reward= 0\n",
        "\n",
        "    def reset(self):\n",
        "        self.timestep = 0\n",
        "        self.agent_pos = [0, 0]\n",
        "        pos= self.agent_pos[0]*4+self.agent_pos[1]\n",
        "        self.goal_pos = [3, 3]\n",
        "        self.wall1 = [1,1]\n",
        "        self.wall2 = [2,2]\n",
        "        self.state = np.zeros([4,4])\n",
        "        self.state[tuple(self.agent_pos)] = 1\n",
        "        self.state[tuple(self.goal_pos)] = 3\n",
        "        self.state[tuple(self.wall1)] = 5\n",
        "        self.state[tuple(self.wall2)] = 5\n",
        "        self.reward=1\n",
        "        observation = self.state.flatten()\n",
        "        return pos\n",
        "    \n",
        "    def step(self, action):\n",
        "        if action == 0:\n",
        "          self.agent_pos[0] += 1\n",
        "          if self.agent_pos[0] == 4:\n",
        "            self.agent_pos[0] -= 1\n",
        "        if action == 1:\n",
        "          self.agent_pos[0] -= 1\n",
        "          if self.agent_pos[0] == -1:\n",
        "            self.agent_pos[0] += 1\n",
        "        if action == 2:\n",
        "          self.agent_pos[1] += 1\n",
        "          if self.agent_pos[1] == 4:\n",
        "            self.agent_pos[1] -= 1\n",
        "        if action == 3:\n",
        "          self.agent_pos[1] -= np.random.randint(0,1)\n",
        "          if self.agent_pos[1] == -1:\n",
        "            self.agent_pos[1] += 1\n",
        "        s_table=np.array([[0,1,2,3],[4,5,6,7],[8,9,10,11],[12,13,14,15]])\n",
        "        npos = s_table[tuple(self.agent_pos)]\n",
        "        self.agent_pos = np.clip(self.agent_pos, 0, 3)\n",
        "        self.state = np.zeros((4,4))\n",
        "        self.state[tuple(self.agent_pos)] = 1\n",
        "        self.state[tuple(self.goal_pos)] = 3\n",
        "        \n",
        "        r_table1= np.array([[-1,-1,-1,-1],[-1,-50,-1,-1],[-1,-1,-50,-1],[-1,-1,-1,100]])\n",
        "        r_table2= np.array([[-1,-1,-1,-1],[-1,-1,-50,-1],[-1,-50,-1,-1],[-1,-1,-1,100]])\n",
        "        if self.timestep%2==0:\n",
        "          self.wall1 = [2,2]\n",
        "          self.wall2 = [1,1]\n",
        "          self.state[tuple(self.wall1)] = 5\n",
        "          self.state[tuple(self.wall2)] = 5\n",
        "          reward= r_table1[tuple(self.agent_pos)]\n",
        "        else:\n",
        "          self.wall1 = [2,1]\n",
        "          self.wall2 = [1,2]\n",
        "          self.state[tuple(self.wall1)] = 5\n",
        "          self.state[tuple(self.wall2)] = 5\n",
        "          reward= r_table2[tuple(self.agent_pos)]\n",
        "        self.timestep += 1\n",
        "        done = True if npos == 15 else False\n",
        "        info = {}\n",
        "        return npos, reward, done, info\n",
        "        \n",
        "    def render(self):\n",
        "        self.state[tuple(self.agent_pos)] = 1\n",
        "        self.state[tuple(self.goal_pos)] = 3\n",
        "        self.state[tuple(self.wall1)] = 5\n",
        "        self.state[tuple(self.wall2)] = 5\n",
        "        plt.imshow(self.state)"
      ],
      "metadata": {
        "id": "ujxxpoO0kIQZ"
      },
      "execution_count": 22,
      "outputs": []
    },
    {
      "cell_type": "code",
      "source": [
        "from matplotlib import figure\n",
        "env = GridEnvironment()\n",
        "#Creating a Q_Table\n",
        "q_table = np.zeros([env.observation_space.n, env.action_space.n])\n",
        "output_grid = widgets.Grid(1, 1)\n",
        "alpha = 0.1\n",
        "gamma = 0.6\n",
        "epsilon = 0.9\n",
        "\n",
        "# For plotting metrics\n",
        "total_epochs=0\n",
        "episodes=1000\n",
        "t_e= []\n",
        "t_r = []\n",
        "t_a=[]\n",
        "total_penalties = 0\n",
        "\n",
        "for i in range(episodes):\n",
        "    state = env.reset()\n",
        "    r=0\n",
        "    epochs, penalties, reward, = 0, 0, 0\n",
        "    done = False\n",
        "    \n",
        "    while not done:\n",
        "        if np.random.uniform(0, 1) < epsilon:\n",
        "            action = env.action_space.sample() # Explore \n",
        "        else:\n",
        "            action = np.argmax(q_table[state]) # Exploit \n",
        "\n",
        "        next_state, reward, done, info = env.step(action) \n",
        "        \n",
        "        old_value = q_table[state, action]\n",
        "        next_max = np.max(q_table[next_state])\n",
        "        \n",
        "        new_value = (1 - alpha) * old_value + alpha * (reward + gamma * next_max)\n",
        "        q_table[state, action] = new_value\n",
        "\n",
        "        if reward == -1:\n",
        "            penalties += 1\n",
        "        state = next_state\n",
        "        epochs += 1\n",
        "        r+=reward\n",
        "        if(i>998):\n",
        "          with output_grid.output_to(0, 0):\n",
        "            output_grid.clear_cell()\n",
        "            env.render()\n",
        "            time.sleep(1)        \n",
        "    t_e.append(epochs) #Timesteps for each Episode\n",
        "    t_r.append(r)#Rewards for each Episode    \n",
        "    total_epochs += epochs\n",
        "    total_penalties += penalties\n",
        "    epsilon= np.exp(-4*i/episodes)\n",
        "    t_a.append(epsilon)  \n",
        "plt.plot(t_r)\n",
        "plt.title('Rewards vs Episodes')\n",
        "plt.xlabel('Episodes')\n",
        "plt.ylabel('Rewards') \n",
        "plt.figure()\n",
        "plt.plot(t_a)\n",
        "plt.title('Epsilon Decay')\n",
        "plt.xlabel('Episodes')\n",
        "plt.ylabel('Episolon Value')         \n",
        "print(penalties)\n",
        "print(\"Training finished.\\n\")\n",
        "print(\"Total Episodes:\",episodes)\n",
        "print(\"Total Timesteps:\",total_epochs)\n",
        "print(\"Total Penalties:\", total_penalties)\n",
        "print(f\"Average timesteps per episode: {total_epochs / episodes}\")\n",
        "print(f\"Average penalties per episode: {total_penalties / episodes}\")\n",
        "print(\"Q Table:\\n\", q_table)\n"
      ],
      "metadata": {
        "colab": {
          "base_uri": "https://localhost:8080/",
          "height": 1000
        },
        "id": "oDB1HVhwxrPa",
        "outputId": "73998741-99a6-49d7-f40a-6c79a63ff074"
      },
      "execution_count": 23,
      "outputs": [
        {
          "output_type": "display_data",
          "data": {
            "text/html": [
              "<style>\n",
              "       table#id14, #id14 > tbody > tr > th, #id14 > tbody > tr > td {\n",
              "         border: 1px solid lightgray;\n",
              "         border-collapse:collapse;\n",
              "         \n",
              "        }</style>"
            ],
            "text/plain": [
              "<IPython.core.display.HTML object>"
            ]
          },
          "metadata": {}
        },
        {
          "output_type": "display_data",
          "data": {
            "text/html": [
              "<table id=id14><tr><td id=id14-0-0></td></tr></table>"
            ],
            "text/plain": [
              "<IPython.core.display.HTML object>"
            ]
          },
          "metadata": {}
        },
        {
          "output_type": "display_data",
          "data": {
            "application/javascript": [
              "window[\"89484602-9db9-11ec-a6d4-0242ac1c0002\"] = google.colab.output.getActiveOutputArea();\n",
              "//# sourceURL=js_c736cd6144"
            ],
            "text/plain": [
              "<IPython.core.display.Javascript object>"
            ]
          },
          "metadata": {}
        },
        {
          "output_type": "display_data",
          "data": {
            "application/javascript": [
              "window[\"8948aa98-9db9-11ec-a6d4-0242ac1c0002\"] = document.querySelector(\"#id14-0-0\");\n",
              "//# sourceURL=js_c378c67d1b"
            ],
            "text/plain": [
              "<IPython.core.display.Javascript object>"
            ]
          },
          "metadata": {}
        },
        {
          "output_type": "display_data",
          "data": {
            "application/javascript": [
              "window[\"89492c16-9db9-11ec-a6d4-0242ac1c0002\"] = google.colab.output.setActiveOutputArea(window[\"8948aa98-9db9-11ec-a6d4-0242ac1c0002\"]);\n",
              "//# sourceURL=js_d25b987dcc"
            ],
            "text/plain": [
              "<IPython.core.display.Javascript object>"
            ]
          },
          "metadata": {}
        },
        {
          "output_type": "display_data",
          "data": {
            "application/javascript": [
              "window[\"89fd28a6-9db9-11ec-a6d4-0242ac1c0002\"] = google.colab.output.setActiveOutputArea(window[\"89484602-9db9-11ec-a6d4-0242ac1c0002\"]);\n",
              "//# sourceURL=js_54dc1a5781"
            ],
            "text/plain": [
              "<IPython.core.display.Javascript object>"
            ]
          },
          "metadata": {}
        },
        {
          "output_type": "display_data",
          "data": {
            "application/javascript": [
              "window[\"89fff4a0-9db9-11ec-a6d4-0242ac1c0002\"] = google.colab.output.getActiveOutputArea();\n",
              "//# sourceURL=js_1b66d5baf8"
            ],
            "text/plain": [
              "<IPython.core.display.Javascript object>"
            ]
          },
          "metadata": {}
        },
        {
          "output_type": "display_data",
          "data": {
            "application/javascript": [
              "window[\"8a006462-9db9-11ec-a6d4-0242ac1c0002\"] = document.querySelector(\"#id14-0-0\");\n",
              "//# sourceURL=js_114e374aec"
            ],
            "text/plain": [
              "<IPython.core.display.Javascript object>"
            ]
          },
          "metadata": {}
        },
        {
          "output_type": "display_data",
          "data": {
            "application/javascript": [
              "window[\"8a00dbc2-9db9-11ec-a6d4-0242ac1c0002\"] = google.colab.output.setActiveOutputArea(window[\"8a006462-9db9-11ec-a6d4-0242ac1c0002\"]);\n",
              "//# sourceURL=js_016b872dea"
            ],
            "text/plain": [
              "<IPython.core.display.Javascript object>"
            ]
          },
          "metadata": {}
        },
        {
          "output_type": "display_data",
          "data": {
            "application/javascript": [
              "window[\"8ab19f66-9db9-11ec-a6d4-0242ac1c0002\"] = google.colab.output.setActiveOutputArea(window[\"89fff4a0-9db9-11ec-a6d4-0242ac1c0002\"]);\n",
              "//# sourceURL=js_d8ca6347e8"
            ],
            "text/plain": [
              "<IPython.core.display.Javascript object>"
            ]
          },
          "metadata": {}
        },
        {
          "output_type": "display_data",
          "data": {
            "application/javascript": [
              "window[\"8ab43a0a-9db9-11ec-a6d4-0242ac1c0002\"] = google.colab.output.getActiveOutputArea();\n",
              "//# sourceURL=js_095468cdba"
            ],
            "text/plain": [
              "<IPython.core.display.Javascript object>"
            ]
          },
          "metadata": {}
        },
        {
          "output_type": "display_data",
          "data": {
            "application/javascript": [
              "window[\"8ab4ae18-9db9-11ec-a6d4-0242ac1c0002\"] = document.querySelector(\"#id14-0-0\");\n",
              "//# sourceURL=js_2b17a1e5cc"
            ],
            "text/plain": [
              "<IPython.core.display.Javascript object>"
            ]
          },
          "metadata": {}
        },
        {
          "output_type": "display_data",
          "data": {
            "application/javascript": [
              "window[\"8ab52a32-9db9-11ec-a6d4-0242ac1c0002\"] = google.colab.output.setActiveOutputArea(window[\"8ab4ae18-9db9-11ec-a6d4-0242ac1c0002\"]);\n",
              "//# sourceURL=js_3252a143b8"
            ],
            "text/plain": [
              "<IPython.core.display.Javascript object>"
            ]
          },
          "metadata": {}
        },
        {
          "output_type": "display_data",
          "data": {
            "application/javascript": [
              "window[\"8b72b282-9db9-11ec-a6d4-0242ac1c0002\"] = google.colab.output.setActiveOutputArea(window[\"8ab43a0a-9db9-11ec-a6d4-0242ac1c0002\"]);\n",
              "//# sourceURL=js_0ed11856b6"
            ],
            "text/plain": [
              "<IPython.core.display.Javascript object>"
            ]
          },
          "metadata": {}
        },
        {
          "output_type": "display_data",
          "data": {
            "application/javascript": [
              "window[\"8b75a212-9db9-11ec-a6d4-0242ac1c0002\"] = google.colab.output.getActiveOutputArea();\n",
              "//# sourceURL=js_467c753fa4"
            ],
            "text/plain": [
              "<IPython.core.display.Javascript object>"
            ]
          },
          "metadata": {}
        },
        {
          "output_type": "display_data",
          "data": {
            "application/javascript": [
              "window[\"8b76131e-9db9-11ec-a6d4-0242ac1c0002\"] = document.querySelector(\"#id14-0-0\");\n",
              "//# sourceURL=js_4774990519"
            ],
            "text/plain": [
              "<IPython.core.display.Javascript object>"
            ]
          },
          "metadata": {}
        },
        {
          "output_type": "display_data",
          "data": {
            "application/javascript": [
              "window[\"8b768e7a-9db9-11ec-a6d4-0242ac1c0002\"] = google.colab.output.setActiveOutputArea(window[\"8b76131e-9db9-11ec-a6d4-0242ac1c0002\"]);\n",
              "//# sourceURL=js_c33d151e2e"
            ],
            "text/plain": [
              "<IPython.core.display.Javascript object>"
            ]
          },
          "metadata": {}
        },
        {
          "output_type": "display_data",
          "data": {
            "application/javascript": [
              "window[\"8c285894-9db9-11ec-a6d4-0242ac1c0002\"] = google.colab.output.setActiveOutputArea(window[\"8b75a212-9db9-11ec-a6d4-0242ac1c0002\"]);\n",
              "//# sourceURL=js_bdcc9dc0db"
            ],
            "text/plain": [
              "<IPython.core.display.Javascript object>"
            ]
          },
          "metadata": {}
        },
        {
          "output_type": "display_data",
          "data": {
            "application/javascript": [
              "window[\"8c2ae604-9db9-11ec-a6d4-0242ac1c0002\"] = google.colab.output.getActiveOutputArea();\n",
              "//# sourceURL=js_3337329f33"
            ],
            "text/plain": [
              "<IPython.core.display.Javascript object>"
            ]
          },
          "metadata": {}
        },
        {
          "output_type": "display_data",
          "data": {
            "application/javascript": [
              "window[\"8c2b5792-9db9-11ec-a6d4-0242ac1c0002\"] = document.querySelector(\"#id14-0-0\");\n",
              "//# sourceURL=js_e959eba8d7"
            ],
            "text/plain": [
              "<IPython.core.display.Javascript object>"
            ]
          },
          "metadata": {}
        },
        {
          "output_type": "display_data",
          "data": {
            "application/javascript": [
              "window[\"8c2bc880-9db9-11ec-a6d4-0242ac1c0002\"] = google.colab.output.setActiveOutputArea(window[\"8c2b5792-9db9-11ec-a6d4-0242ac1c0002\"]);\n",
              "//# sourceURL=js_3c2be00f5d"
            ],
            "text/plain": [
              "<IPython.core.display.Javascript object>"
            ]
          },
          "metadata": {}
        },
        {
          "output_type": "display_data",
          "data": {
            "application/javascript": [
              "window[\"8cdc5b1e-9db9-11ec-a6d4-0242ac1c0002\"] = google.colab.output.setActiveOutputArea(window[\"8c2ae604-9db9-11ec-a6d4-0242ac1c0002\"]);\n",
              "//# sourceURL=js_75528193ea"
            ],
            "text/plain": [
              "<IPython.core.display.Javascript object>"
            ]
          },
          "metadata": {}
        },
        {
          "output_type": "display_data",
          "data": {
            "application/javascript": [
              "window[\"8cdfad1e-9db9-11ec-a6d4-0242ac1c0002\"] = google.colab.output.getActiveOutputArea();\n",
              "//# sourceURL=js_3d86cdab0d"
            ],
            "text/plain": [
              "<IPython.core.display.Javascript object>"
            ]
          },
          "metadata": {}
        },
        {
          "output_type": "display_data",
          "data": {
            "application/javascript": [
              "window[\"8ce03b3a-9db9-11ec-a6d4-0242ac1c0002\"] = document.querySelector(\"#id14-0-0\");\n",
              "//# sourceURL=js_a8c8445cc4"
            ],
            "text/plain": [
              "<IPython.core.display.Javascript object>"
            ]
          },
          "metadata": {}
        },
        {
          "output_type": "display_data",
          "data": {
            "application/javascript": [
              "window[\"8ce0a2f0-9db9-11ec-a6d4-0242ac1c0002\"] = google.colab.output.setActiveOutputArea(window[\"8ce03b3a-9db9-11ec-a6d4-0242ac1c0002\"]);\n",
              "//# sourceURL=js_dda319b7b6"
            ],
            "text/plain": [
              "<IPython.core.display.Javascript object>"
            ]
          },
          "metadata": {}
        },
        {
          "output_type": "display_data",
          "data": {
            "image/png": "[encoded data removed]",
            "text/plain": [
              "<Figure size 432x288 with 1 Axes>"
            ]
          },
          "metadata": {
            "needs_background": "light"
          }
        },
        {
          "output_type": "display_data",
          "data": {
            "application/javascript": [
              "window[\"8d92a022-9db9-11ec-a6d4-0242ac1c0002\"] = google.colab.output.setActiveOutputArea(window[\"8cdfad1e-9db9-11ec-a6d4-0242ac1c0002\"]);\n",
              "//# sourceURL=js_d960e21875"
            ],
            "text/plain": [
              "<IPython.core.display.Javascript object>"
            ]
          },
          "metadata": {}
        },
        {
          "output_type": "stream",
          "name": "stdout",
          "text": [
            "5\n",
            "Training finished.\n",
            "\n",
            "Total Episodes: 1000\n",
            "Total Timesteps: 8641\n",
            "Total Penalties: 7492\n",
            "Average timesteps per episode: 8.641\n",
            "Average penalties per episode: 7.492\n",
            "Q Table:\n",
            " [[ 3.32303095e-01  2.26919973e+00  5.47040000e+00  2.27884615e+00]\n",
            " [ 5.06547925e-01  5.46519809e+00  1.07840000e+01  5.45311119e+00]\n",
            " [ 1.13525857e+01  1.07664518e+01  1.96400000e+01  1.07659114e+01]\n",
            " [ 3.44000000e+01  1.96394398e+01  1.96394591e+01  1.96370605e+01]\n",
            " [-1.02964060e+00  2.27110616e+00 -1.08544918e+01 -7.00782218e-01]\n",
            " [-1.01046444e+01  5.45448481e+00  9.51381944e-01 -2.37067230e+01]\n",
            " [-1.21623450e+00  7.24626436e+00  3.42830220e+01 -1.46852129e+01]\n",
            " [ 5.90000000e+01  1.96397153e+01  3.43998117e+01  3.43998691e+01]\n",
            " [-3.49792282e-01 -7.74238451e-01 -4.97705377e+00 -6.89383562e-01]\n",
            " [ 5.93009878e+00 -9.19528067e+00 -8.27456921e+00 -2.88664451e+01]\n",
            " [ 2.70676312e+01 -1.48132870e+01  4.09963158e+01 -8.67215875e+00]\n",
            " [ 1.00000000e+02  3.43992779e+01  5.89981279e+01  5.89954767e+01]\n",
            " [-8.51600968e-02 -1.16232699e-01  3.57736174e+00 -4.08645470e-01]\n",
            " [ 1.63261500e+00 -8.29430896e+00  3.18383980e+01  1.04198600e+00]\n",
            " [ 1.01909367e+01 -1.81317115e+01  8.78423345e+01  9.45725497e+00]\n",
            " [ 0.00000000e+00  0.00000000e+00  0.00000000e+00  0.00000000e+00]]\n"
          ]
        },
        {
          "output_type": "display_data",
          "data": {
            "image/png": "[encoded data removed]",
            "text/plain": [
              "<Figure size 432x288 with 1 Axes>"
            ]
          },
          "metadata": {
            "needs_background": "light"
          }
        },
        {
          "output_type": "display_data",
          "data": {
            "image/png": "[encoded data removed]",
            "text/plain": [
              "<Figure size 432x288 with 1 Axes>"
            ]
          },
          "metadata": {
            "needs_background": "light"
          }
        }
      ]
    },
    {
      "cell_type": "code",
      "source": [
        "total_epochs, total_penalties = 0, 0\n",
        "episodes = 10\n",
        "t_r1=[]\n",
        "t_e1=[]\n",
        "\n",
        "for _ in range(episodes):\n",
        "    r1=0\n",
        "    state = env.reset()\n",
        "    epochs, penalties1, reward = 0, 0, 0    \n",
        "    done = False    \n",
        "    while not done:\n",
        "        action = np.argmax(q_table[state])\n",
        "        state, reward, done, info = env.step(action)\n",
        "        if reward == -1:\n",
        "            penalties1 += 1\n",
        "        r1+=reward    \n",
        "        epochs += 1\n",
        "        if(_>8):\n",
        "          with output_grid.output_to(0, 0):\n",
        "            output_grid.clear_cell()\n",
        "            print(state)\n",
        "            print(f\"Episode:\", _)\n",
        "            env.render()  \n",
        "          time.sleep(1)\n",
        "    total_epochs += epochs\n",
        "    total_penalties += penalties1\n",
        "    t_e1.append(epochs) #Timesteps for each Episode\n",
        "    t_r1.append(r1) #Rewards for each Episode    \n",
        "plt.plot(t_r1)\n",
        "plt.title('Rewards vs Episodes')\n",
        "plt.xlabel('Episodes')\n",
        "plt.ylabel('Rewards') \n",
        "plt.figure()\n",
        "plt.plot(t_a)  \n",
        "plt.title('Epsilon Decay')\n",
        "plt.xlabel('Episodes')\n",
        "plt.ylabel('Episolon Value')       \n",
        "print(penalties1)\n",
        "print(\"Training finished.\\n\")\n",
        "print(\"Total Episodes:\",episodes)\n",
        "print(\"Total Timesteps:\",total_epochs)\n",
        "print(\"Total Penalties:\", total_penalties)\n",
        "print(f\"Results after {episodes} episodes:\")\n",
        "print(f\"Average timesteps per episode: {total_epochs / episodes}\")\n",
        "print(f\"Average penalties per episode: {total_penalties / episodes}\")"
      ],
      "metadata": {
        "colab": {
          "base_uri": "https://localhost:8080/",
          "height": 1000
        },
        "id": "j5VDsbtHyXgl",
        "outputId": "4a53cb38-33ba-40e8-c487-7485e3709890"
      },
      "execution_count": 24,
      "outputs": [
        {
          "output_type": "display_data",
          "data": {
            "application/javascript": [
              "window[\"8dd4405e-9db9-11ec-a6d4-0242ac1c0002\"] = google.colab.output.getActiveOutputArea();\n",
              "//# sourceURL=js_5f55ac2296"
            ],
            "text/plain": [
              "<IPython.core.display.Javascript object>"
            ]
          },
          "metadata": {}
        },
        {
          "output_type": "display_data",
          "data": {
            "application/javascript": [
              "window[\"8dd4f10c-9db9-11ec-a6d4-0242ac1c0002\"] = document.querySelector(\"#id14-0-0\");\n",
              "//# sourceURL=js_279c4deea2"
            ],
            "text/plain": [
              "<IPython.core.display.Javascript object>"
            ]
          },
          "metadata": {}
        },
        {
          "output_type": "display_data",
          "data": {
            "application/javascript": [
              "window[\"8dd5b042-9db9-11ec-a6d4-0242ac1c0002\"] = google.colab.output.setActiveOutputArea(window[\"8dd4f10c-9db9-11ec-a6d4-0242ac1c0002\"]);\n",
              "//# sourceURL=js_e44b66aa5d"
            ],
            "text/plain": [
              "<IPython.core.display.Javascript object>"
            ]
          },
          "metadata": {}
        },
        {
          "output_type": "display_data",
          "data": {
            "application/javascript": [
              "window[\"8deedda6-9db9-11ec-a6d4-0242ac1c0002\"] = google.colab.output.setActiveOutputArea(window[\"8dd4405e-9db9-11ec-a6d4-0242ac1c0002\"]);\n",
              "//# sourceURL=js_fd1e8e2e02"
            ],
            "text/plain": [
              "<IPython.core.display.Javascript object>"
            ]
          },
          "metadata": {}
        },
        {
          "output_type": "display_data",
          "data": {
            "application/javascript": [
              "window[\"8e8adf08-9db9-11ec-a6d4-0242ac1c0002\"] = google.colab.output.getActiveOutputArea();\n",
              "//# sourceURL=js_1805bf5702"
            ],
            "text/plain": [
              "<IPython.core.display.Javascript object>"
            ]
          },
          "metadata": {}
        },
        {
          "output_type": "display_data",
          "data": {
            "application/javascript": [
              "window[\"8e8b4286-9db9-11ec-a6d4-0242ac1c0002\"] = document.querySelector(\"#id14-0-0\");\n",
              "//# sourceURL=js_b35153b94e"
            ],
            "text/plain": [
              "<IPython.core.display.Javascript object>"
            ]
          },
          "metadata": {}
        },
        {
          "output_type": "display_data",
          "data": {
            "application/javascript": [
              "window[\"8e8b9dd0-9db9-11ec-a6d4-0242ac1c0002\"] = google.colab.output.setActiveOutputArea(window[\"8e8b4286-9db9-11ec-a6d4-0242ac1c0002\"]);\n",
              "//# sourceURL=js_80399c4c53"
            ],
            "text/plain": [
              "<IPython.core.display.Javascript object>"
            ]
          },
          "metadata": {}
        },
        {
          "output_type": "display_data",
          "data": {
            "application/javascript": [
              "window[\"8ea5322c-9db9-11ec-a6d4-0242ac1c0002\"] = google.colab.output.setActiveOutputArea(window[\"8e8adf08-9db9-11ec-a6d4-0242ac1c0002\"]);\n",
              "//# sourceURL=js_44f78ef7ff"
            ],
            "text/plain": [
              "<IPython.core.display.Javascript object>"
            ]
          },
          "metadata": {}
        },
        {
          "output_type": "display_data",
          "data": {
            "application/javascript": [
              "window[\"8f401b98-9db9-11ec-a6d4-0242ac1c0002\"] = google.colab.output.getActiveOutputArea();\n",
              "//# sourceURL=js_f3073ad053"
            ],
            "text/plain": [
              "<IPython.core.display.Javascript object>"
            ]
          },
          "metadata": {}
        },
        {
          "output_type": "display_data",
          "data": {
            "application/javascript": [
              "window[\"8f407ec6-9db9-11ec-a6d4-0242ac1c0002\"] = document.querySelector(\"#id14-0-0\");\n",
              "//# sourceURL=js_0a9b561a6b"
            ],
            "text/plain": [
              "<IPython.core.display.Javascript object>"
            ]
          },
          "metadata": {}
        },
        {
          "output_type": "display_data",
          "data": {
            "application/javascript": [
              "window[\"8f4108a0-9db9-11ec-a6d4-0242ac1c0002\"] = google.colab.output.setActiveOutputArea(window[\"8f407ec6-9db9-11ec-a6d4-0242ac1c0002\"]);\n",
              "//# sourceURL=js_174aaf8a39"
            ],
            "text/plain": [
              "<IPython.core.display.Javascript object>"
            ]
          },
          "metadata": {}
        },
        {
          "output_type": "display_data",
          "data": {
            "application/javascript": [
              "window[\"8f5b4f26-9db9-11ec-a6d4-0242ac1c0002\"] = google.colab.output.setActiveOutputArea(window[\"8f401b98-9db9-11ec-a6d4-0242ac1c0002\"]);\n",
              "//# sourceURL=js_c36ffdf5e9"
            ],
            "text/plain": [
              "<IPython.core.display.Javascript object>"
            ]
          },
          "metadata": {}
        },
        {
          "output_type": "display_data",
          "data": {
            "application/javascript": [
              "window[\"8ff65bce-9db9-11ec-a6d4-0242ac1c0002\"] = google.colab.output.getActiveOutputArea();\n",
              "//# sourceURL=js_abb552ed43"
            ],
            "text/plain": [
              "<IPython.core.display.Javascript object>"
            ]
          },
          "metadata": {}
        },
        {
          "output_type": "display_data",
          "data": {
            "application/javascript": [
              "window[\"8ff6af16-9db9-11ec-a6d4-0242ac1c0002\"] = document.querySelector(\"#id14-0-0\");\n",
              "//# sourceURL=js_2db663fad4"
            ],
            "text/plain": [
              "<IPython.core.display.Javascript object>"
            ]
          },
          "metadata": {}
        },
        {
          "output_type": "display_data",
          "data": {
            "application/javascript": [
              "window[\"8ff6ff20-9db9-11ec-a6d4-0242ac1c0002\"] = google.colab.output.setActiveOutputArea(window[\"8ff6af16-9db9-11ec-a6d4-0242ac1c0002\"]);\n",
              "//# sourceURL=js_a58da0531f"
            ],
            "text/plain": [
              "<IPython.core.display.Javascript object>"
            ]
          },
          "metadata": {}
        },
        {
          "output_type": "display_data",
          "data": {
            "application/javascript": [
              "window[\"900fdf40-9db9-11ec-a6d4-0242ac1c0002\"] = google.colab.output.setActiveOutputArea(window[\"8ff65bce-9db9-11ec-a6d4-0242ac1c0002\"]);\n",
              "//# sourceURL=js_bf21c80234"
            ],
            "text/plain": [
              "<IPython.core.display.Javascript object>"
            ]
          },
          "metadata": {}
        },
        {
          "output_type": "display_data",
          "data": {
            "application/javascript": [
              "window[\"90aaa160-9db9-11ec-a6d4-0242ac1c0002\"] = google.colab.output.getActiveOutputArea();\n",
              "//# sourceURL=js_dea9024140"
            ],
            "text/plain": [
              "<IPython.core.display.Javascript object>"
            ]
          },
          "metadata": {}
        },
        {
          "output_type": "display_data",
          "data": {
            "application/javascript": [
              "window[\"90aaefee-9db9-11ec-a6d4-0242ac1c0002\"] = document.querySelector(\"#id14-0-0\");\n",
              "//# sourceURL=js_283038285b"
            ],
            "text/plain": [
              "<IPython.core.display.Javascript object>"
            ]
          },
          "metadata": {}
        },
        {
          "output_type": "display_data",
          "data": {
            "application/javascript": [
              "window[\"90ab5f6a-9db9-11ec-a6d4-0242ac1c0002\"] = google.colab.output.setActiveOutputArea(window[\"90aaefee-9db9-11ec-a6d4-0242ac1c0002\"]);\n",
              "//# sourceURL=js_d3d074a60e"
            ],
            "text/plain": [
              "<IPython.core.display.Javascript object>"
            ]
          },
          "metadata": {}
        },
        {
          "output_type": "display_data",
          "data": {
            "application/javascript": [
              "window[\"90c604b4-9db9-11ec-a6d4-0242ac1c0002\"] = google.colab.output.setActiveOutputArea(window[\"90aaa160-9db9-11ec-a6d4-0242ac1c0002\"]);\n",
              "//# sourceURL=js_e5af4833a4"
            ],
            "text/plain": [
              "<IPython.core.display.Javascript object>"
            ]
          },
          "metadata": {}
        },
        {
          "output_type": "display_data",
          "data": {
            "application/javascript": [
              "window[\"9160a1ea-9db9-11ec-a6d4-0242ac1c0002\"] = google.colab.output.getActiveOutputArea();\n",
              "//# sourceURL=js_aaa922e98b"
            ],
            "text/plain": [
              "<IPython.core.display.Javascript object>"
            ]
          },
          "metadata": {}
        },
        {
          "output_type": "display_data",
          "data": {
            "application/javascript": [
              "window[\"91610054-9db9-11ec-a6d4-0242ac1c0002\"] = document.querySelector(\"#id14-0-0\");\n",
              "//# sourceURL=js_a2d6f85ed5"
            ],
            "text/plain": [
              "<IPython.core.display.Javascript object>"
            ]
          },
          "metadata": {}
        },
        {
          "output_type": "display_data",
          "data": {
            "application/javascript": [
              "window[\"91617354-9db9-11ec-a6d4-0242ac1c0002\"] = google.colab.output.setActiveOutputArea(window[\"91610054-9db9-11ec-a6d4-0242ac1c0002\"]);\n",
              "//# sourceURL=js_1f51594f48"
            ],
            "text/plain": [
              "<IPython.core.display.Javascript object>"
            ]
          },
          "metadata": {}
        },
        {
          "output_type": "stream",
          "name": "stdout",
          "text": [
            "15\n",
            "Episode: 9\n"
          ]
        },
        {
          "output_type": "display_data",
          "data": {
            "image/png": "[encoded data removed]",
            "text/plain": [
              "<Figure size 432x288 with 1 Axes>"
            ]
          },
          "metadata": {
            "needs_background": "light"
          }
        },
        {
          "output_type": "display_data",
          "data": {
            "application/javascript": [
              "window[\"917d6dca-9db9-11ec-a6d4-0242ac1c0002\"] = google.colab.output.setActiveOutputArea(window[\"9160a1ea-9db9-11ec-a6d4-0242ac1c0002\"]);\n",
              "//# sourceURL=js_1b32b7c959"
            ],
            "text/plain": [
              "<IPython.core.display.Javascript object>"
            ]
          },
          "metadata": {}
        },
        {
          "output_type": "stream",
          "name": "stdout",
          "text": [
            "5\n",
            "Training finished.\n",
            "\n",
            "Total Episodes: 10\n",
            "Total Timesteps: 60\n",
            "Total Penalties: 50\n",
            "Results after 10 episodes:\n",
            "Average timesteps per episode: 6.0\n",
            "Average penalties per episode: 5.0\n"
          ]
        },
        {
          "output_type": "display_data",
          "data": {
            "image/png": "[encoded data removed]",
            "text/plain": [
              "<Figure size 432x288 with 1 Axes>"
            ]
          },
          "metadata": {
            "needs_background": "light"
          }
        },
        {
          "output_type": "display_data",
          "data": {
            "image/png": "[encoded data removed]",
            "text/plain": [
              "<Figure size 432x288 with 1 Axes>"
            ]
          },
          "metadata": {
            "needs_background": "light"
          }
        }
      ]
    },
    {
      "cell_type": "code",
      "source": [
        ""
      ],
      "metadata": {
        "id": "zqh5YGLXzfSa"
      },
      "execution_count": 24,
      "outputs": []
    }
  ]
}