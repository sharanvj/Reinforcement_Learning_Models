{
  "nbformat": 4,
  "nbformat_minor": 0,
  "metadata": {
    "colab": {
      "name": "Deterministic_SARSA.ipynb",
      "provenance": [],
      "collapsed_sections": []
    },
    "kernelspec": {
      "name": "python3",
      "display_name": "Python 3"
    },
    "language_info": {
      "name": "python"
    }
  },
  "cells": [
    {
      "cell_type": "code",
      "execution_count": 44,
      "metadata": {
        "id": "l2GyBtJgi8h6"
      },
      "outputs": [],
      "source": [
        "##\"I certify that the code and data in this assignment were generated independently, using only the tools and resources defined in the course and that I did not receive any external help, coaching or contributions during the production of this work.\""
      ]
    },
    {
      "cell_type": "code",
      "source": [
        "!pip install gym"
      ],
      "metadata": {
        "colab": {
          "base_uri": "https://localhost:8080/"
        },
        "id": "DVfNF2VXj_jy",
        "outputId": "0ca08b99-2492-4e90-edd6-8caf02080425"
      },
      "execution_count": 45,
      "outputs": [
        {
          "output_type": "stream",
          "name": "stdout",
          "text": [
            "Requirement already satisfied: gym in /usr/local/lib/python3.7/dist-packages (0.17.3)\n",
            "Requirement already satisfied: scipy in /usr/local/lib/python3.7/dist-packages (from gym) (1.4.1)\n",
            "Requirement already satisfied: numpy>=1.10.4 in /usr/local/lib/python3.7/dist-packages (from gym) (1.21.5)\n",
            "Requirement already satisfied: pyglet<=1.5.0,>=1.4.0 in /usr/local/lib/python3.7/dist-packages (from gym) (1.5.0)\n",
            "Requirement already satisfied: cloudpickle<1.7.0,>=1.2.0 in /usr/local/lib/python3.7/dist-packages (from gym) (1.3.0)\n",
            "Requirement already satisfied: future in /usr/local/lib/python3.7/dist-packages (from pyglet<=1.5.0,>=1.4.0->gym) (0.16.0)\n"
          ]
        }
      ]
    },
    {
      "cell_type": "code",
      "source": [
        "import numpy as np\n",
        "import matplotlib.pyplot as plt\n",
        "import gym\n",
        "from gym import spaces\n",
        "from google.colab import widgets\n",
        "import time"
      ],
      "metadata": {
        "id": "rYd6dUn7kBgm"
      },
      "execution_count": 46,
      "outputs": []
    },
    {
      "cell_type": "code",
      "source": [
        "class GridEnvironment(gym.Env):\n",
        "    metadata = { 'render.modes': [] }\n",
        "    \n",
        "    def __init__(self):\n",
        "        self.observation_space = spaces.Discrete(16)\n",
        "        self.action_space = spaces.Discrete(4)\n",
        "        self.max_timesteps = 250\n",
        "        self.reward= 0\n",
        "\n",
        "    def reset(self):\n",
        "        self.timestep = 0\n",
        "        self.agent_pos = [0, 0]\n",
        "        pos= self.agent_pos[0]*4+self.agent_pos[1]\n",
        "        self.goal_pos = [3, 3]\n",
        "        self.wall1 = [0,1]\n",
        "        self.wall2 = [3,2]\n",
        "        self.wall3 = [2,2]\n",
        "        self.state = np.zeros([4,4])\n",
        "        self.state[tuple(self.agent_pos)] = 1\n",
        "        self.state[tuple(self.goal_pos)] = 3\n",
        "        self.state[tuple(self.wall1)] = 5\n",
        "        self.state[tuple(self.wall2)] = 5\n",
        "        self.state[tuple(self.wall3)] = 5\n",
        "        self.reward=1\n",
        "        observation = self.state.flatten()\n",
        "        return pos\n",
        "    \n",
        "    def step(self, action):\n",
        "        if action == 0:\n",
        "          self.agent_pos[0] += 1\n",
        "          if self.agent_pos[0] == 4:\n",
        "            self.agent_pos[0] -= 1\n",
        "        if action == 1:\n",
        "          self.agent_pos[0] -= 1\n",
        "          if self.agent_pos[0] == -1:\n",
        "            self.agent_pos[0] += 1\n",
        "        if action == 2:\n",
        "          self.agent_pos[1] += 1\n",
        "          if self.agent_pos[1] == 4:\n",
        "            self.agent_pos[1] -= 1\n",
        "        if action == 3:\n",
        "          self.agent_pos[1] -= 1\n",
        "          if self.agent_pos[1] == -1:\n",
        "            self.agent_pos[1] += 1\n",
        "        s_table=np.array([[0,1,2,3],[4,5,6,7],[8,9,10,11],[12,13,14,15]])\n",
        "        npos = s_table[tuple(self.agent_pos)]\n",
        "        self.agent_pos = np.clip(self.agent_pos, 0, 3)\n",
        "        self.state = np.zeros((4,4))\n",
        "        self.state[tuple(self.agent_pos)] = 1\n",
        "        self.state[tuple(self.goal_pos)] = 3\n",
        "        \n",
        "        r_table= np.array([[-1,-50,-1,-1],[-1,-1,-1,-1],[-1,-1,-50,-1],[-1,-1,-50,100]])\n",
        "        reward= r_table[tuple(self.agent_pos)]\n",
        "        self.timestep += 1\n",
        "        done = True if npos == 15 else False\n",
        "        info = {}\n",
        "        return npos, reward, done, info\n",
        "        \n",
        "    def render(self):\n",
        "        self.state[tuple(self.agent_pos)] = 1\n",
        "        self.state[tuple(self.goal_pos)] = 3\n",
        "        self.state[tuple(self.wall1)] = 5\n",
        "        self.state[tuple(self.wall2)] = 5\n",
        "        self.state[tuple(self.wall3)] = 5\n",
        "        plt.imshow(self.state)"
      ],
      "metadata": {
        "id": "ujxxpoO0kIQZ"
      },
      "execution_count": 47,
      "outputs": []
    },
    {
      "cell_type": "code",
      "source": [
        "#SARSA Algorithm\n",
        "from matplotlib import figure\n",
        "env = GridEnvironment()\n",
        "#Creating a Q_Table\n",
        "q1_table = np.zeros([env.observation_space.n, env.action_space.n])\n",
        "output_grid = widgets.Grid(1, 1)\n",
        "alpha = 0.1\n",
        "gamma = 0.6\n",
        "epsilon = 0.9\n",
        "\n",
        "# For plotting metrics\n",
        "total_epochs=0\n",
        "episodes=1000\n",
        "t_e= []\n",
        "t_r = []\n",
        "t_a=[]\n",
        "all_epochs = 0\n",
        "total_penalties = 0\n",
        "def choose_action(state):\n",
        "    action=0\n",
        "    if np.random.uniform(0, 1) < epsilon:\n",
        "        action = env.action_space.sample()\n",
        "    else:\n",
        "        action = np.argmax(q1_table[state, :])\n",
        "    return action\n",
        "\n",
        "for i in range(episodes):\n",
        "    state1 = env.reset()\n",
        "    action1 = choose_action(state1)\n",
        "    r=0\n",
        "    epochs, penalties, reward, = 0, 0, 0\n",
        "    done = False    \n",
        "    while not done:\n",
        "        state2, reward, done, info = env.step(action1)\n",
        "        action2 = choose_action(state2)          \n",
        "        #Learning the Q-value\n",
        "        q1_table[state1, action1] = q1_table[state1, action1] + alpha * (reward + gamma * q1_table[state2, action2] - q1_table[state1, action1])  \n",
        "        state1 = state2\n",
        "        action1 = action2\n",
        "        if reward == -1:\n",
        "            penalties += 1\n",
        "        epochs += 1\n",
        "        r+=reward\n",
        "        if(i>998):#Displays last iteration/Episode\n",
        "          with output_grid.output_to(0, 0):\n",
        "            output_grid.clear_cell()\n",
        "            env.render()\n",
        "          time.sleep(1)        \n",
        "    t_e.append(epochs) #Timesteps for each Episode\n",
        "    t_r.append(r)#Rewards for each Episode    \n",
        "    total_epochs += epochs\n",
        "    total_penalties += penalties\n",
        "    epsilon= np.exp(-4*i/episodes)\n",
        "    t_a.append(epsilon)  \n",
        "plt.plot(t_r)\n",
        "plt.title('Rewards vs Episodes')\n",
        "plt.xlabel('Episodes')\n",
        "plt.ylabel('Rewards') \n",
        "plt.figure()\n",
        "plt.plot(t_a)  \n",
        "plt.title('Epsilon Decay')\n",
        "plt.xlabel('Episodes')\n",
        "plt.ylabel('Episolon Value')        \n",
        "print(penalties)\n",
        "print(\"Model Ready! Training finished.\\n\")\n",
        "print(\"Total Episodes:\",episodes)\n",
        "print(\"Total Timesteps:\",total_epochs)\n",
        "print(\"Total Penalties:\", total_penalties)\n",
        "print(\"Average timesteps per episode: {total_epochs / episodes}\")\n",
        "print(\"Average penalties per episode: {total_penalties / episodes}\")\n",
        "print(\"SARSA Table:\\n\", q1_table)\n"
      ],
      "metadata": {
        "colab": {
          "base_uri": "https://localhost:8080/",
          "height": 1000
        },
        "id": "344ubma-kNAz",
        "outputId": "c2537863-5b79-43bb-f7d6-802233490605"
      },
      "execution_count": 48,
      "outputs": [
        {
          "output_type": "display_data",
          "data": {
            "text/html": [
              "<style>\n",
              "       table#id40, #id40 > tbody > tr > th, #id40 > tbody > tr > td {\n",
              "         border: 1px solid lightgray;\n",
              "         border-collapse:collapse;\n",
              "         \n",
              "        }</style>"
            ],
            "text/plain": [
              "<IPython.core.display.HTML object>"
            ]
          },
          "metadata": {}
        },
        {
          "output_type": "display_data",
          "data": {
            "text/html": [
              "<table id=id40><tr><td id=id40-0-0></td></tr></table>"
            ],
            "text/plain": [
              "<IPython.core.display.HTML object>"
            ]
          },
          "metadata": {}
        },
        {
          "output_type": "display_data",
          "data": {
            "application/javascript": [
              "window[\"8b5ad518-9db9-11ec-bde6-0242ac1c0002\"] = google.colab.output.getActiveOutputArea();\n",
              "//# sourceURL=js_0720096187"
            ],
            "text/plain": [
              "<IPython.core.display.Javascript object>"
            ]
          },
          "metadata": {}
        },
        {
          "output_type": "display_data",
          "data": {
            "application/javascript": [
              "window[\"8b5b8620-9db9-11ec-bde6-0242ac1c0002\"] = document.querySelector(\"#id40-0-0\");\n",
              "//# sourceURL=js_a7d24e510c"
            ],
            "text/plain": [
              "<IPython.core.display.Javascript object>"
            ]
          },
          "metadata": {}
        },
        {
          "output_type": "display_data",
          "data": {
            "application/javascript": [
              "window[\"8b5c3156-9db9-11ec-bde6-0242ac1c0002\"] = google.colab.output.setActiveOutputArea(window[\"8b5b8620-9db9-11ec-bde6-0242ac1c0002\"]);\n",
              "//# sourceURL=js_c7dd7b0256"
            ],
            "text/plain": [
              "<IPython.core.display.Javascript object>"
            ]
          },
          "metadata": {}
        },
        {
          "output_type": "display_data",
          "data": {
            "application/javascript": [
              "window[\"8b8c74f6-9db9-11ec-bde6-0242ac1c0002\"] = google.colab.output.setActiveOutputArea(window[\"8b5ad518-9db9-11ec-bde6-0242ac1c0002\"]);\n",
              "//# sourceURL=js_af5e519744"
            ],
            "text/plain": [
              "<IPython.core.display.Javascript object>"
            ]
          },
          "metadata": {}
        },
        {
          "output_type": "display_data",
          "data": {
            "application/javascript": [
              "window[\"8c28642e-9db9-11ec-bde6-0242ac1c0002\"] = google.colab.output.getActiveOutputArea();\n",
              "//# sourceURL=js_187ef0793c"
            ],
            "text/plain": [
              "<IPython.core.display.Javascript object>"
            ]
          },
          "metadata": {}
        },
        {
          "output_type": "display_data",
          "data": {
            "application/javascript": [
              "window[\"8c2982aa-9db9-11ec-bde6-0242ac1c0002\"] = document.querySelector(\"#id40-0-0\");\n",
              "//# sourceURL=js_a69b2ef744"
            ],
            "text/plain": [
              "<IPython.core.display.Javascript object>"
            ]
          },
          "metadata": {}
        },
        {
          "output_type": "display_data",
          "data": {
            "application/javascript": [
              "window[\"8c2a865a-9db9-11ec-bde6-0242ac1c0002\"] = google.colab.output.setActiveOutputArea(window[\"8c2982aa-9db9-11ec-bde6-0242ac1c0002\"]);\n",
              "//# sourceURL=js_ff10075b11"
            ],
            "text/plain": [
              "<IPython.core.display.Javascript object>"
            ]
          },
          "metadata": {}
        },
        {
          "output_type": "display_data",
          "data": {
            "application/javascript": [
              "window[\"8c599c38-9db9-11ec-bde6-0242ac1c0002\"] = google.colab.output.setActiveOutputArea(window[\"8c28642e-9db9-11ec-bde6-0242ac1c0002\"]);\n",
              "//# sourceURL=js_b73164b5dc"
            ],
            "text/plain": [
              "<IPython.core.display.Javascript object>"
            ]
          },
          "metadata": {}
        },
        {
          "output_type": "display_data",
          "data": {
            "application/javascript": [
              "window[\"8cf60a32-9db9-11ec-bde6-0242ac1c0002\"] = google.colab.output.getActiveOutputArea();\n",
              "//# sourceURL=js_05fa4e3fb2"
            ],
            "text/plain": [
              "<IPython.core.display.Javascript object>"
            ]
          },
          "metadata": {}
        },
        {
          "output_type": "display_data",
          "data": {
            "application/javascript": [
              "window[\"8cf6e7d6-9db9-11ec-bde6-0242ac1c0002\"] = document.querySelector(\"#id40-0-0\");\n",
              "//# sourceURL=js_a42295c899"
            ],
            "text/plain": [
              "<IPython.core.display.Javascript object>"
            ]
          },
          "metadata": {}
        },
        {
          "output_type": "display_data",
          "data": {
            "application/javascript": [
              "window[\"8cf8c9e8-9db9-11ec-bde6-0242ac1c0002\"] = google.colab.output.setActiveOutputArea(window[\"8cf6e7d6-9db9-11ec-bde6-0242ac1c0002\"]);\n",
              "//# sourceURL=js_8188cf376f"
            ],
            "text/plain": [
              "<IPython.core.display.Javascript object>"
            ]
          },
          "metadata": {}
        },
        {
          "output_type": "display_data",
          "data": {
            "application/javascript": [
              "window[\"8d39ab7a-9db9-11ec-bde6-0242ac1c0002\"] = google.colab.output.setActiveOutputArea(window[\"8cf60a32-9db9-11ec-bde6-0242ac1c0002\"]);\n",
              "//# sourceURL=js_c2aafd354d"
            ],
            "text/plain": [
              "<IPython.core.display.Javascript object>"
            ]
          },
          "metadata": {}
        },
        {
          "output_type": "display_data",
          "data": {
            "application/javascript": [
              "window[\"8dd8456e-9db9-11ec-bde6-0242ac1c0002\"] = google.colab.output.getActiveOutputArea();\n",
              "//# sourceURL=js_d73c016cc0"
            ],
            "text/plain": [
              "<IPython.core.display.Javascript object>"
            ]
          },
          "metadata": {}
        },
        {
          "output_type": "display_data",
          "data": {
            "application/javascript": [
              "window[\"8dd93820-9db9-11ec-bde6-0242ac1c0002\"] = document.querySelector(\"#id40-0-0\");\n",
              "//# sourceURL=js_93ab1f8530"
            ],
            "text/plain": [
              "<IPython.core.display.Javascript object>"
            ]
          },
          "metadata": {}
        },
        {
          "output_type": "display_data",
          "data": {
            "application/javascript": [
              "window[\"8dd98546-9db9-11ec-bde6-0242ac1c0002\"] = google.colab.output.setActiveOutputArea(window[\"8dd93820-9db9-11ec-bde6-0242ac1c0002\"]);\n",
              "//# sourceURL=js_1aed51f15d"
            ],
            "text/plain": [
              "<IPython.core.display.Javascript object>"
            ]
          },
          "metadata": {}
        },
        {
          "output_type": "display_data",
          "data": {
            "application/javascript": [
              "window[\"8e1b11aa-9db9-11ec-bde6-0242ac1c0002\"] = google.colab.output.setActiveOutputArea(window[\"8dd8456e-9db9-11ec-bde6-0242ac1c0002\"]);\n",
              "//# sourceURL=js_ab47a5a46e"
            ],
            "text/plain": [
              "<IPython.core.display.Javascript object>"
            ]
          },
          "metadata": {}
        },
        {
          "output_type": "display_data",
          "data": {
            "application/javascript": [
              "window[\"8eb72ac2-9db9-11ec-bde6-0242ac1c0002\"] = google.colab.output.getActiveOutputArea();\n",
              "//# sourceURL=js_e44ac4a916"
            ],
            "text/plain": [
              "<IPython.core.display.Javascript object>"
            ]
          },
          "metadata": {}
        },
        {
          "output_type": "display_data",
          "data": {
            "application/javascript": [
              "window[\"8eb82206-9db9-11ec-bde6-0242ac1c0002\"] = document.querySelector(\"#id40-0-0\");\n",
              "//# sourceURL=js_afe9804129"
            ],
            "text/plain": [
              "<IPython.core.display.Javascript object>"
            ]
          },
          "metadata": {}
        },
        {
          "output_type": "display_data",
          "data": {
            "application/javascript": [
              "window[\"8eb92e62-9db9-11ec-bde6-0242ac1c0002\"] = google.colab.output.setActiveOutputArea(window[\"8eb82206-9db9-11ec-bde6-0242ac1c0002\"]);\n",
              "//# sourceURL=js_3100a350c3"
            ],
            "text/plain": [
              "<IPython.core.display.Javascript object>"
            ]
          },
          "metadata": {}
        },
        {
          "output_type": "display_data",
          "data": {
            "application/javascript": [
              "window[\"8ef04b04-9db9-11ec-bde6-0242ac1c0002\"] = google.colab.output.setActiveOutputArea(window[\"8eb72ac2-9db9-11ec-bde6-0242ac1c0002\"]);\n",
              "//# sourceURL=js_9397b381c2"
            ],
            "text/plain": [
              "<IPython.core.display.Javascript object>"
            ]
          },
          "metadata": {}
        },
        {
          "output_type": "display_data",
          "data": {
            "application/javascript": [
              "window[\"8f8ddc5c-9db9-11ec-bde6-0242ac1c0002\"] = google.colab.output.getActiveOutputArea();\n",
              "//# sourceURL=js_3152cb9cfd"
            ],
            "text/plain": [
              "<IPython.core.display.Javascript object>"
            ]
          },
          "metadata": {}
        },
        {
          "output_type": "display_data",
          "data": {
            "application/javascript": [
              "window[\"8f8e93c2-9db9-11ec-bde6-0242ac1c0002\"] = document.querySelector(\"#id40-0-0\");\n",
              "//# sourceURL=js_f3762208a5"
            ],
            "text/plain": [
              "<IPython.core.display.Javascript object>"
            ]
          },
          "metadata": {}
        },
        {
          "output_type": "display_data",
          "data": {
            "application/javascript": [
              "window[\"8f8f5b0e-9db9-11ec-bde6-0242ac1c0002\"] = google.colab.output.setActiveOutputArea(window[\"8f8e93c2-9db9-11ec-bde6-0242ac1c0002\"]);\n",
              "//# sourceURL=js_994564c9df"
            ],
            "text/plain": [
              "<IPython.core.display.Javascript object>"
            ]
          },
          "metadata": {}
        },
        {
          "output_type": "display_data",
          "data": {
            "image/png": "[encoded data removed]",
            "text/plain": [
              "<Figure size 432x288 with 1 Axes>"
            ]
          },
          "metadata": {
            "needs_background": "light"
          }
        },
        {
          "output_type": "display_data",
          "data": {
            "application/javascript": [
              "window[\"8fa6a91c-9db9-11ec-bde6-0242ac1c0002\"] = google.colab.output.setActiveOutputArea(window[\"8f8ddc5c-9db9-11ec-bde6-0242ac1c0002\"]);\n",
              "//# sourceURL=js_d9bd063b4f"
            ],
            "text/plain": [
              "<IPython.core.display.Javascript object>"
            ]
          },
          "metadata": {}
        },
        {
          "output_type": "stream",
          "name": "stdout",
          "text": [
            "5\n",
            "Model Ready! Training finished.\n",
            "\n",
            "Total Episodes: 1000\n",
            "Total Timesteps: 39651\n",
            "Total Penalties: 37549\n",
            "Average timesteps per episode: {total_epochs / episodes}\n",
            "Average penalties per episode: {total_penalties / episodes}\n",
            "SARSA Table:\n",
            " [[ 5.07418054e+00 -1.07770072e+00 -5.31655145e+01 -2.20711101e+00]\n",
            " [-9.94741370e+00 -6.14561202e+01 -1.13911203e+01 -7.88356971e-02]\n",
            " [-9.61432382e+00 -1.21017556e+01  6.57624451e+00 -5.98376758e+01]\n",
            " [ 2.76280543e+01 -2.12859528e+00 -2.38567738e+00 -6.53851654e+00]\n",
            " [-1.81834830e+00 -1.47365833e+00  1.00599432e+01  9.19334756e-01]\n",
            " [-3.31173387e+00 -5.38920054e+01  1.90045968e+01 -6.81193074e-01]\n",
            " [-2.78367281e+01 -4.17889754e+00  3.43992003e+01  1.09564674e+00]\n",
            " [ 5.89998958e+01  8.13790533e+00  2.10838096e+01 -5.12553857e-01]\n",
            " [-2.44375511e+00  1.90252113e+00 -5.21360350e+00 -2.77861503e+00]\n",
            " [-3.07403576e+00 -4.23260328e+00 -3.09352137e+01 -1.72645226e+00]\n",
            " [-1.59410144e+01 -6.19831204e+00  5.23901229e+01 -9.25522959e+00]\n",
            " [ 1.00000000e+02  1.97267969e+01  3.75158238e+01 -2.71618638e+01]\n",
            " [-2.53518855e+00 -2.53657996e+00 -2.77615494e+00 -2.52985469e+00]\n",
            " [-2.87907903e+00 -2.81453928e+00 -6.90591211e+00 -2.47521254e+00]\n",
            " [-1.11388531e+01 -3.60315146e+01  1.00000000e+02 -2.80518290e+00]\n",
            " [ 0.00000000e+00  0.00000000e+00  0.00000000e+00  0.00000000e+00]]\n"
          ]
        },
        {
          "output_type": "display_data",
          "data": {
            "image/png": "[encoded data removed]",
            "text/plain": [
              "<Figure size 432x288 with 1 Axes>"
            ]
          },
          "metadata": {
            "needs_background": "light"
          }
        },
        {
          "output_type": "display_data",
          "data": {
            "image/png": "[encoded data removed]",
            "text/plain": [
              "<Figure size 432x288 with 1 Axes>"
            ]
          },
          "metadata": {
            "needs_background": "light"
          }
        }
      ]
    },
    {
      "cell_type": "code",
      "source": [
        "total_epochs, total_penalties = 0, 0\n",
        "episodes = 10\n",
        "t_r1=[]\n",
        "t_e1=[]\n",
        "\n",
        "for _ in range(episodes):\n",
        "    r1=0\n",
        "    state = env.reset()\n",
        "    epochs, penalties1, reward = 0, 0, 0    \n",
        "    done = False    \n",
        "    while not done:\n",
        "        action = np.argmax(q1_table[state])\n",
        "        state, reward, done, info = env.step(action)\n",
        "        if reward == -1:\n",
        "            penalties1 += 1\n",
        "        r1+=reward    \n",
        "        epochs += 1\n",
        "        if(_>8):#Displays last iteration/Episode\n",
        "          with output_grid.output_to(0, 0):\n",
        "            output_grid.clear_cell()\n",
        "            print(state)\n",
        "            print(f\"Episode:\", _)\n",
        "            env.render()  \n",
        "          time.sleep(1)\n",
        "    total_epochs += epochs\n",
        "    total_penalties += penalties1\n",
        "    t_e1.append(epochs) #Timesteps for each Episode\n",
        "    t_r1.append(r1) #Rewards for each Episode    \n",
        "plt.plot(t_r1) \n",
        "plt.title('Rewards vs Episodes')\n",
        "plt.xlabel('Episodes')\n",
        "plt.ylabel('Rewards') \n",
        "plt.figure()\n",
        "plt.plot(t_a)\n",
        "plt.title('Epsilon Decay')\n",
        "plt.xlabel('Episodes')\n",
        "plt.ylabel('Episolon Value')         \n",
        "print(penalties1)\n",
        "print(\"Testing Complete.\\n\")\n",
        "print(\"Total Episodes:\",episodes)\n",
        "print(\"Total Timesteps:\",total_epochs)\n",
        "print(\"Total Penalties:\", total_penalties)\n",
        "u=total_epochs/episodes\n",
        "v=total_penalties/episodes\n",
        "print(\"Average timesteps per episode:\", u )\n",
        "print(\"Average penalties per episode:\", v)"
      ],
      "metadata": {
        "colab": {
          "base_uri": "https://localhost:8080/",
          "height": 1000
        },
        "id": "8S0TTTHbl37c",
        "outputId": "d3d82522-1b8b-420d-9bcd-61c0166d8285"
      },
      "execution_count": 53,
      "outputs": [
        {
          "output_type": "display_data",
          "data": {
            "application/javascript": [
              "window[\"130e4ff0-9dc2-11ec-bde6-0242ac1c0002\"] = google.colab.output.getActiveOutputArea();\n",
              "//# sourceURL=js_17a4100eab"
            ],
            "text/plain": [
              "<IPython.core.display.Javascript object>"
            ]
          },
          "metadata": {}
        },
        {
          "output_type": "display_data",
          "data": {
            "application/javascript": [
              "window[\"130ecea8-9dc2-11ec-bde6-0242ac1c0002\"] = document.querySelector(\"#id40-0-0\");\n",
              "//# sourceURL=js_92368285b5"
            ],
            "text/plain": [
              "<IPython.core.display.Javascript object>"
            ]
          },
          "metadata": {}
        },
        {
          "output_type": "display_data",
          "data": {
            "application/javascript": [
              "window[\"130f4a68-9dc2-11ec-bde6-0242ac1c0002\"] = google.colab.output.setActiveOutputArea(window[\"130ecea8-9dc2-11ec-bde6-0242ac1c0002\"]);\n",
              "//# sourceURL=js_bc6de93f8b"
            ],
            "text/plain": [
              "<IPython.core.display.Javascript object>"
            ]
          },
          "metadata": {}
        },
        {
          "output_type": "display_data",
          "data": {
            "application/javascript": [
              "window[\"13285ea4-9dc2-11ec-bde6-0242ac1c0002\"] = google.colab.output.setActiveOutputArea(window[\"130e4ff0-9dc2-11ec-bde6-0242ac1c0002\"]);\n",
              "//# sourceURL=js_8d30291515"
            ],
            "text/plain": [
              "<IPython.core.display.Javascript object>"
            ]
          },
          "metadata": {}
        },
        {
          "output_type": "display_data",
          "data": {
            "application/javascript": [
              "window[\"13c48770-9dc2-11ec-bde6-0242ac1c0002\"] = google.colab.output.getActiveOutputArea();\n",
              "//# sourceURL=js_949f86448b"
            ],
            "text/plain": [
              "<IPython.core.display.Javascript object>"
            ]
          },
          "metadata": {}
        },
        {
          "output_type": "display_data",
          "data": {
            "application/javascript": [
              "window[\"13c4e7a6-9dc2-11ec-bde6-0242ac1c0002\"] = document.querySelector(\"#id40-0-0\");\n",
              "//# sourceURL=js_93f7070928"
            ],
            "text/plain": [
              "<IPython.core.display.Javascript object>"
            ]
          },
          "metadata": {}
        },
        {
          "output_type": "display_data",
          "data": {
            "application/javascript": [
              "window[\"13c56758-9dc2-11ec-bde6-0242ac1c0002\"] = google.colab.output.setActiveOutputArea(window[\"13c4e7a6-9dc2-11ec-bde6-0242ac1c0002\"]);\n",
              "//# sourceURL=js_ddd80583da"
            ],
            "text/plain": [
              "<IPython.core.display.Javascript object>"
            ]
          },
          "metadata": {}
        },
        {
          "output_type": "display_data",
          "data": {
            "application/javascript": [
              "window[\"13de6168-9dc2-11ec-bde6-0242ac1c0002\"] = google.colab.output.setActiveOutputArea(window[\"13c48770-9dc2-11ec-bde6-0242ac1c0002\"]);\n",
              "//# sourceURL=js_6d17fb6b80"
            ],
            "text/plain": [
              "<IPython.core.display.Javascript object>"
            ]
          },
          "metadata": {}
        },
        {
          "output_type": "display_data",
          "data": {
            "application/javascript": [
              "window[\"1478bc0e-9dc2-11ec-bde6-0242ac1c0002\"] = google.colab.output.getActiveOutputArea();\n",
              "//# sourceURL=js_09e2381b7c"
            ],
            "text/plain": [
              "<IPython.core.display.Javascript object>"
            ]
          },
          "metadata": {}
        },
        {
          "output_type": "display_data",
          "data": {
            "application/javascript": [
              "window[\"147905c4-9dc2-11ec-bde6-0242ac1c0002\"] = document.querySelector(\"#id40-0-0\");\n",
              "//# sourceURL=js_1b6ebe9568"
            ],
            "text/plain": [
              "<IPython.core.display.Javascript object>"
            ]
          },
          "metadata": {}
        },
        {
          "output_type": "display_data",
          "data": {
            "application/javascript": [
              "window[\"14797040-9dc2-11ec-bde6-0242ac1c0002\"] = google.colab.output.setActiveOutputArea(window[\"147905c4-9dc2-11ec-bde6-0242ac1c0002\"]);\n",
              "//# sourceURL=js_3aa51ee95c"
            ],
            "text/plain": [
              "<IPython.core.display.Javascript object>"
            ]
          },
          "metadata": {}
        },
        {
          "output_type": "display_data",
          "data": {
            "application/javascript": [
              "window[\"1492c824-9dc2-11ec-bde6-0242ac1c0002\"] = google.colab.output.setActiveOutputArea(window[\"1478bc0e-9dc2-11ec-bde6-0242ac1c0002\"]);\n",
              "//# sourceURL=js_4f8444123d"
            ],
            "text/plain": [
              "<IPython.core.display.Javascript object>"
            ]
          },
          "metadata": {}
        },
        {
          "output_type": "display_data",
          "data": {
            "application/javascript": [
              "window[\"152d9106-9dc2-11ec-bde6-0242ac1c0002\"] = google.colab.output.getActiveOutputArea();\n",
              "//# sourceURL=js_c593054252"
            ],
            "text/plain": [
              "<IPython.core.display.Javascript object>"
            ]
          },
          "metadata": {}
        },
        {
          "output_type": "display_data",
          "data": {
            "application/javascript": [
              "window[\"152e04f6-9dc2-11ec-bde6-0242ac1c0002\"] = document.querySelector(\"#id40-0-0\");\n",
              "//# sourceURL=js_c6742d5398"
            ],
            "text/plain": [
              "<IPython.core.display.Javascript object>"
            ]
          },
          "metadata": {}
        },
        {
          "output_type": "display_data",
          "data": {
            "application/javascript": [
              "window[\"152e51b8-9dc2-11ec-bde6-0242ac1c0002\"] = google.colab.output.setActiveOutputArea(window[\"152e04f6-9dc2-11ec-bde6-0242ac1c0002\"]);\n",
              "//# sourceURL=js_cd52c58a3c"
            ],
            "text/plain": [
              "<IPython.core.display.Javascript object>"
            ]
          },
          "metadata": {}
        },
        {
          "output_type": "display_data",
          "data": {
            "application/javascript": [
              "window[\"1547e24a-9dc2-11ec-bde6-0242ac1c0002\"] = google.colab.output.setActiveOutputArea(window[\"152d9106-9dc2-11ec-bde6-0242ac1c0002\"]);\n",
              "//# sourceURL=js_47e6fe6caa"
            ],
            "text/plain": [
              "<IPython.core.display.Javascript object>"
            ]
          },
          "metadata": {}
        },
        {
          "output_type": "display_data",
          "data": {
            "application/javascript": [
              "window[\"15e429a2-9dc2-11ec-bde6-0242ac1c0002\"] = google.colab.output.getActiveOutputArea();\n",
              "//# sourceURL=js_0ba1d7e8dd"
            ],
            "text/plain": [
              "<IPython.core.display.Javascript object>"
            ]
          },
          "metadata": {}
        },
        {
          "output_type": "display_data",
          "data": {
            "application/javascript": [
              "window[\"15e46a5c-9dc2-11ec-bde6-0242ac1c0002\"] = document.querySelector(\"#id40-0-0\");\n",
              "//# sourceURL=js_47f996e477"
            ],
            "text/plain": [
              "<IPython.core.display.Javascript object>"
            ]
          },
          "metadata": {}
        },
        {
          "output_type": "display_data",
          "data": {
            "application/javascript": [
              "window[\"15e4a6de-9dc2-11ec-bde6-0242ac1c0002\"] = google.colab.output.setActiveOutputArea(window[\"15e46a5c-9dc2-11ec-bde6-0242ac1c0002\"]);\n",
              "//# sourceURL=js_74666f1b95"
            ],
            "text/plain": [
              "<IPython.core.display.Javascript object>"
            ]
          },
          "metadata": {}
        },
        {
          "output_type": "display_data",
          "data": {
            "application/javascript": [
              "window[\"15fc802e-9dc2-11ec-bde6-0242ac1c0002\"] = google.colab.output.setActiveOutputArea(window[\"15e429a2-9dc2-11ec-bde6-0242ac1c0002\"]);\n",
              "//# sourceURL=js_139389ed05"
            ],
            "text/plain": [
              "<IPython.core.display.Javascript object>"
            ]
          },
          "metadata": {}
        },
        {
          "output_type": "display_data",
          "data": {
            "application/javascript": [
              "window[\"16977a5c-9dc2-11ec-bde6-0242ac1c0002\"] = google.colab.output.getActiveOutputArea();\n",
              "//# sourceURL=js_323aa3e696"
            ],
            "text/plain": [
              "<IPython.core.display.Javascript object>"
            ]
          },
          "metadata": {}
        },
        {
          "output_type": "display_data",
          "data": {
            "application/javascript": [
              "window[\"1697bef4-9dc2-11ec-bde6-0242ac1c0002\"] = document.querySelector(\"#id40-0-0\");\n",
              "//# sourceURL=js_ae94a2dd87"
            ],
            "text/plain": [
              "<IPython.core.display.Javascript object>"
            ]
          },
          "metadata": {}
        },
        {
          "output_type": "display_data",
          "data": {
            "application/javascript": [
              "window[\"16980d0a-9dc2-11ec-bde6-0242ac1c0002\"] = google.colab.output.setActiveOutputArea(window[\"1697bef4-9dc2-11ec-bde6-0242ac1c0002\"]);\n",
              "//# sourceURL=js_71b7cfb623"
            ],
            "text/plain": [
              "<IPython.core.display.Javascript object>"
            ]
          },
          "metadata": {}
        },
        {
          "output_type": "stream",
          "name": "stdout",
          "text": [
            "15\n",
            "Episode: 9\n"
          ]
        },
        {
          "output_type": "display_data",
          "data": {
            "image/png": "[encoded data removed]",
            "text/plain": [
              "<Figure size 432x288 with 1 Axes>"
            ]
          },
          "metadata": {
            "needs_background": "light"
          }
        },
        {
          "output_type": "display_data",
          "data": {
            "application/javascript": [
              "window[\"16b1193a-9dc2-11ec-bde6-0242ac1c0002\"] = google.colab.output.setActiveOutputArea(window[\"16977a5c-9dc2-11ec-bde6-0242ac1c0002\"]);\n",
              "//# sourceURL=js_0406ca7207"
            ],
            "text/plain": [
              "<IPython.core.display.Javascript object>"
            ]
          },
          "metadata": {}
        },
        {
          "output_type": "stream",
          "name": "stdout",
          "text": [
            "5\n",
            "Testing Complete.\n",
            "\n",
            "Total Episodes: 10\n",
            "Total Timesteps: 60\n",
            "Total Penalties: 50\n",
            "Average timesteps per episode: 6.0\n",
            "Average penalties per episode: 5.0\n"
          ]
        },
        {
          "output_type": "display_data",
          "data": {
            "image/png": "[encoded data removed]",
            "text/plain": [
              "<Figure size 432x288 with 1 Axes>"
            ]
          },
          "metadata": {
            "needs_background": "light"
          }
        },
        {
          "output_type": "display_data",
          "data": {
            "image/png": "[encoded data removed]",
            "text/plain": [
              "<Figure size 432x288 with 1 Axes>"
            ]
          },
          "metadata": {
            "needs_background": "light"
          }
        }
      ]
    },
    {
      "cell_type": "code",
      "source": [
        ""
      ],
      "metadata": {
        "id": "nbUpz9HonOKy"
      },
      "execution_count": 49,
      "outputs": []
    }
  ]
}