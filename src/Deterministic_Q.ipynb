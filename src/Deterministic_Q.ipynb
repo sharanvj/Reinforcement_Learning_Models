{
  "cells": [
    {
      "cell_type": "code",
      "source": [
        "##\"I certify that the code and data in this assignment were generated independently, using only the tools and resources defined in the course and that I did not receive any external help, coaching or contributions during the production of this work.\""
      ],
      "metadata": {
        "id": "_myralTTpY91"
      },
      "execution_count": 112,
      "outputs": []
    },
    {
      "cell_type": "code",
      "execution_count": 113,
      "metadata": {
        "colab": {
          "base_uri": "https://localhost:8080/"
        },
        "id": "1De30ou6Lysx",
        "outputId": "2d69148a-5f16-4be5-dbba-3ffc5f1ea429"
      },
      "outputs": [
        {
          "output_type": "stream",
          "name": "stdout",
          "text": [
            "Requirement already satisfied: gym in /usr/local/lib/python3.7/dist-packages (0.17.3)\n",
            "Requirement already satisfied: scipy in /usr/local/lib/python3.7/dist-packages (from gym) (1.4.1)\n",
            "Requirement already satisfied: pyglet<=1.5.0,>=1.4.0 in /usr/local/lib/python3.7/dist-packages (from gym) (1.5.0)\n",
            "Requirement already satisfied: cloudpickle<1.7.0,>=1.2.0 in /usr/local/lib/python3.7/dist-packages (from gym) (1.3.0)\n",
            "Requirement already satisfied: numpy>=1.10.4 in /usr/local/lib/python3.7/dist-packages (from gym) (1.21.5)\n",
            "Requirement already satisfied: future in /usr/local/lib/python3.7/dist-packages (from pyglet<=1.5.0,>=1.4.0->gym) (0.16.0)\n"
          ]
        }
      ],
      "source": [
        "!pip install gym"
      ]
    },
    {
      "cell_type": "code",
      "execution_count": 114,
      "metadata": {
        "id": "vzLSDtlzL3mt"
      },
      "outputs": [],
      "source": [
        "import numpy as np\n",
        "import matplotlib.pyplot as plt\n",
        "import gym\n",
        "from gym import spaces"
      ]
    },
    {
      "cell_type": "code",
      "execution_count": 115,
      "metadata": {
        "id": "PfOnKRT7L46q"
      },
      "outputs": [],
      "source": [
        "from google.colab import widgets\n",
        "import time"
      ]
    },
    {
      "cell_type": "code",
      "execution_count": 116,
      "metadata": {
        "id": "vNy_7i2jL8VQ"
      },
      "outputs": [],
      "source": [
        "class GridEnvironment(gym.Env):\n",
        "    metadata = { 'render.modes': [] }\n",
        "    \n",
        "    def __init__(self):\n",
        "        self.observation_space = spaces.Discrete(16)\n",
        "        self.action_space = spaces.Discrete(4)\n",
        "        self.max_timesteps = 250\n",
        "        self.reward= 0\n",
        "\n",
        "    def reset(self):\n",
        "        self.timestep = 0        \n",
        "        self.agent_pos = [0, 0]\n",
        "        self.goal_pos = [3, 3]\n",
        "        self.wall1 = [0,1]\n",
        "        self.wall2 = [3,2]\n",
        "        self.wall3 = [2,2]\n",
        "        pos= self.agent_pos[0]*4+self.agent_pos[1]\n",
        "        self.state = np.zeros([4,4])\n",
        "        self.state[tuple(self.agent_pos)] = 1\n",
        "        self.state[tuple(self.goal_pos)] = 3\n",
        "        self.state[tuple(self.wall1)] = 5\n",
        "        self.state[tuple(self.wall2)] = 5\n",
        "        self.state[tuple(self.wall3)] = 5\n",
        "        self.reward=1\n",
        "        observation = self.state.flatten()\n",
        "        return pos\n",
        "    \n",
        "    def step(self, action):\n",
        "        if action == 0:\n",
        "          self.agent_pos[0] += 1\n",
        "          if self.agent_pos[0] == 4:\n",
        "            self.agent_pos[0] -= 1\n",
        "        if action == 1:\n",
        "          self.agent_pos[0] -= 1\n",
        "          if self.agent_pos[0] == -1:\n",
        "            self.agent_pos[0] += 1\n",
        "        if action == 2:\n",
        "          self.agent_pos[1] += 1\n",
        "          if self.agent_pos[1] == 4:\n",
        "            self.agent_pos[1] -= 1\n",
        "        if action == 3:\n",
        "          self.agent_pos[1] -= 1\n",
        "          if self.agent_pos[1] == -1:\n",
        "            self.agent_pos[1] += 1\n",
        "        s_table=np.array([[0,1,2,3],[4,5,6,7],[8,9,10,11],[12,13,14,15]])\n",
        "        npos = s_table[tuple(self.agent_pos)]\n",
        "        self.agent_pos = np.clip(self.agent_pos, 0, 3)\n",
        "        self.state = np.zeros((4,4))\n",
        "        self.state[tuple(self.agent_pos)] = 1\n",
        "        self.state[tuple(self.goal_pos)] = 3\n",
        "        \n",
        "        r_table= np.array([[-1,-3,-1,-1],[-1,-1,-1,-1],[-1,-1,-3,-1],[-1,-1,-3,100]])\n",
        "        reward= r_table[tuple(self.agent_pos)]\n",
        "        self.timestep += 1\n",
        "        done = True if npos == 15 else False\n",
        "        info = {}\n",
        "        return npos, reward, done, info\n",
        "        \n",
        "    def render(self):\n",
        "        self.state[tuple(self.agent_pos)] = 1\n",
        "        self.state[tuple(self.goal_pos)] = 3\n",
        "        self.state[tuple(self.wall1)] = 5\n",
        "        self.state[tuple(self.wall2)] = 5\n",
        "        self.state[tuple(self.wall3)] = 5\n",
        "        plt.imshow(self.state)"
      ]
    },
    {
      "cell_type": "code",
      "source": [
        "from matplotlib import figure\n",
        "env = GridEnvironment()\n",
        "#Creating a Q_Table\n",
        "q_table = np.zeros([env.observation_space.n, env.action_space.n])\n",
        "output_grid = widgets.Grid(1, 1)\n",
        "alpha = 0.1\n",
        "gamma = 0.6\n",
        "epsilon = 0.9\n",
        "\n",
        "# For plotting metrics\n",
        "total_epochs=0\n",
        "episodes=1000\n",
        "t_e= []\n",
        "t_r = []\n",
        "t_a=[]\n",
        "all_epochs = 0\n",
        "all_penalties = []\n",
        "\n",
        "for i in range(episodes):\n",
        "    state = env.reset()\n",
        "    r=0\n",
        "    epochs, penalties, reward, = 0, 0, 0\n",
        "    done = False\n",
        "    \n",
        "    while not done:\n",
        "        if np.random.uniform(0, 1) < epsilon:\n",
        "            action = env.action_space.sample() # Explore \n",
        "        else:\n",
        "            action = np.argmax(q_table[state]) # Exploit \n",
        "\n",
        "        next_state, reward, done, info = env.step(action) \n",
        "        \n",
        "        old_value = q_table[state, action]\n",
        "        next_max = np.max(q_table[next_state])\n",
        "        \n",
        "        new_value = (1 - alpha) * old_value + alpha * (reward + gamma * next_max)\n",
        "        q_table[state, action] = new_value\n",
        "\n",
        "        if reward == -1:\n",
        "            penalties += 1\n",
        "        state = next_state\n",
        "        epochs += 1\n",
        "        r+=reward\n",
        "        #if(i>198):\n",
        "         # with output_grid.output_to(0, 0):\n",
        "          #  output_grid.clear_cell()\n",
        "           # env.render()\n",
        "            #time.sleep(1)        \n",
        "    t_e.append(epochs) #Timesteps for each Episode\n",
        "    t_r.append(r)#Rewards for each Episode    \n",
        "    total_epochs += epochs\n",
        "    total_penalties += penalties\n",
        "    epsilon= np.exp(-4*i/episodes)\n",
        "    t_a.append(epsilon)  \n",
        "plt.plot(t_r) \n",
        "plt.title('Rewards vs Episodes')\n",
        "plt.xlabel('Episodes')\n",
        "plt.ylabel('Rewards')\n",
        "plt.figure()\n",
        "plt.plot(t_a)\n",
        "plt.title('Epsilon Decay')\n",
        "plt.xlabel('Episodes')\n",
        "plt.ylabel('Episolon Value')         \n",
        "print(penalties)\n",
        "print(\"Training finished.\\n\")\n",
        "print(\"Total Episodes:\",episodes)\n",
        "print(\"Total Timesteps:\",total_epochs)\n",
        "print(\"Total Penalties:\", total_penalties)\n",
        "print(f\"Average timesteps per episode: {total_epochs / episodes}\")\n",
        "print(f\"Average penalties per episode: {total_penalties / episodes}\")\n",
        "print(\"Q Table:\\n\", q_table)\n"
      ],
      "metadata": {
        "colab": {
          "base_uri": "https://localhost:8080/",
          "height": 1000
        },
        "id": "8-NTEtM5b9l-",
        "outputId": "405d2a2e-a06d-45a9-f35a-e81b64ce3233"
      },
      "execution_count": 117,
      "outputs": [
        {
          "output_type": "display_data",
          "data": {
            "text/html": [
              "<style>\n",
              "       table#id104, #id104 > tbody > tr > th, #id104 > tbody > tr > td {\n",
              "         border: 1px solid lightgray;\n",
              "         border-collapse:collapse;\n",
              "         \n",
              "        }</style>"
            ],
            "text/plain": [
              "<IPython.core.display.HTML object>"
            ]
          },
          "metadata": {}
        },
        {
          "output_type": "display_data",
          "data": {
            "text/html": [
              "<table id=id104><tr><td id=id104-0-0></td></tr></table>"
            ],
            "text/plain": [
              "<IPython.core.display.HTML object>"
            ]
          },
          "metadata": {}
        },
        {
          "output_type": "stream",
          "name": "stdout",
          "text": [
            "4\n",
            "Training finished.\n",
            "\n",
            "Total Episodes: 1000\n",
            "Total Timesteps: 10000\n",
            "Total Penalties: 7285\n",
            "Average timesteps per episode: 10.0\n",
            "Average penalties per episode: 7.285\n",
            "Q Table:\n",
            " [[  5.2112       2.11762984   3.19970098   2.11523666]\n",
            " [ 10.35194468   2.4773044    5.07440507   1.75026073]\n",
            " [  6.93010127   2.66844889  14.74246985   0.63012013]\n",
            " [ 31.75937385   9.12258956  11.64717732   2.44426672]\n",
            " [ 10.33495933   2.12070309  10.352        5.20692111]\n",
            " [ 18.92         3.20571831  18.32381983   5.2013863 ]\n",
            " [ 32.37505961   4.24414798  28.69266778   7.92505434]\n",
            " [ 58.76576789  11.9018329   23.02978964  12.82028693]\n",
            " [ 16.46934545   4.43386122  18.91964831   8.23825973]\n",
            " [ 33.2         10.33853355  32.37316676  10.31224533]\n",
            " [ 54.96975849  17.18037335  58.99996059  17.50373897]\n",
            " [ 99.99999613  31.97014233  55.88861221  29.65714143]\n",
            " [ 13.46455578   8.52942556  33.19743769  14.62466917]\n",
            " [ 33.16277447  18.90992399  57.          18.90422115]\n",
            " [ 56.88611847  32.24833814 100.          33.0543691 ]\n",
            " [  0.           0.           0.           0.        ]]\n"
          ]
        },
        {
          "output_type": "display_data",
          "data": {
            "image/png": "[encoded data removed]",
            "text/plain": [
              "<Figure size 432x288 with 1 Axes>"
            ]
          },
          "metadata": {
            "needs_background": "light"
          }
        },
        {
          "output_type": "display_data",
          "data": {
            "image/png": "[encoded data removed]",
            "text/plain": [
              "<Figure size 432x288 with 1 Axes>"
            ]
          },
          "metadata": {
            "needs_background": "light"
          }
        }
      ]
    },
    {
      "cell_type": "code",
      "source": [
        "total_epochs, total_penalties = 0, 0\n",
        "episodes = 10\n",
        "t_r1=[]\n",
        "t_e1=[]\n",
        "\n",
        "for _ in range(episodes):\n",
        "    r1=0\n",
        "    state = env.reset()\n",
        "    epochs, penalties1, reward = 0, 0, 0    \n",
        "    done = False    \n",
        "    while not done:\n",
        "        action = np.argmax(q_table[state])\n",
        "        state, reward, done, info = env.step(action)\n",
        "        if reward == -1:\n",
        "            penalties1 += 1\n",
        "        r1+=reward    \n",
        "        epochs += 1\n",
        "        if(_>8):\n",
        "          with output_grid.output_to(0, 0):\n",
        "            output_grid.clear_cell()\n",
        "            print(state)\n",
        "            print(f\"Episode:\", _)\n",
        "            env.render()  \n",
        "          time.sleep(1)\n",
        "    total_epochs += epochs\n",
        "    total_penalties += penalties1\n",
        "    t_e1.append(epochs) #Timesteps for each Episode\n",
        "    t_r1.append(r1) #Rewards for each Episode    \n",
        "plt.plot(t_r1)\n",
        "plt.title('Rewards vs Episodes')\n",
        "plt.xlabel('Episodes')\n",
        "plt.ylabel('Rewards') \n",
        "plt.figure()\n",
        "plt.plot(t_a)\n",
        "plt.title('Epsilon Decay')\n",
        "plt.xlabel('Episodes')\n",
        "plt.ylabel('Episolon Value')         \n",
        "print(penalties1)\n",
        "print(\"Training finished.\\n\")\n",
        "print(\"Total Episodes:\",episodes)\n",
        "print(\"Total Timesteps:\",total_epochs)\n",
        "print(\"Total Penalties:\", total_penalties)\n",
        "print(f\"Results after {episodes} episodes:\")\n",
        "print(f\"Average timesteps per episode: {total_epochs / episodes}\")\n",
        "print(f\"Average penalties per episode: {total_penalties / episodes}\")"
      ],
      "metadata": {
        "colab": {
          "base_uri": "https://localhost:8080/",
          "height": 1000
        },
        "id": "z5jjcQpSOmAf",
        "outputId": "674f2675-aaef-4936-c726-89c578424b0a"
      },
      "execution_count": 118,
      "outputs": [
        {
          "output_type": "display_data",
          "data": {
            "application/javascript": [
              "window[\"88b3b186-9db9-11ec-8cbe-0242ac1c0002\"] = google.colab.output.getActiveOutputArea();\n",
              "//# sourceURL=js_197fe054d8"
            ],
            "text/plain": [
              "<IPython.core.display.Javascript object>"
            ]
          },
          "metadata": {}
        },
        {
          "output_type": "display_data",
          "data": {
            "application/javascript": [
              "window[\"88b41af4-9db9-11ec-8cbe-0242ac1c0002\"] = document.querySelector(\"#id104-0-0\");\n",
              "//# sourceURL=js_0cbc02ba89"
            ],
            "text/plain": [
              "<IPython.core.display.Javascript object>"
            ]
          },
          "metadata": {}
        },
        {
          "output_type": "display_data",
          "data": {
            "application/javascript": [
              "window[\"88b4803e-9db9-11ec-8cbe-0242ac1c0002\"] = google.colab.output.setActiveOutputArea(window[\"88b41af4-9db9-11ec-8cbe-0242ac1c0002\"]);\n",
              "//# sourceURL=js_2ad6364b25"
            ],
            "text/plain": [
              "<IPython.core.display.Javascript object>"
            ]
          },
          "metadata": {}
        },
        {
          "output_type": "display_data",
          "data": {
            "application/javascript": [
              "window[\"88dff368-9db9-11ec-8cbe-0242ac1c0002\"] = google.colab.output.setActiveOutputArea(window[\"88b3b186-9db9-11ec-8cbe-0242ac1c0002\"]);\n",
              "//# sourceURL=js_262b944b64"
            ],
            "text/plain": [
              "<IPython.core.display.Javascript object>"
            ]
          },
          "metadata": {}
        },
        {
          "output_type": "display_data",
          "data": {
            "application/javascript": [
              "window[\"897b199c-9db9-11ec-8cbe-0242ac1c0002\"] = google.colab.output.getActiveOutputArea();\n",
              "//# sourceURL=js_7fdbf35f88"
            ],
            "text/plain": [
              "<IPython.core.display.Javascript object>"
            ]
          },
          "metadata": {}
        },
        {
          "output_type": "display_data",
          "data": {
            "application/javascript": [
              "window[\"897b8314-9db9-11ec-8cbe-0242ac1c0002\"] = document.querySelector(\"#id104-0-0\");\n",
              "//# sourceURL=js_a5959e7808"
            ],
            "text/plain": [
              "<IPython.core.display.Javascript object>"
            ]
          },
          "metadata": {}
        },
        {
          "output_type": "display_data",
          "data": {
            "application/javascript": [
              "window[\"897bfd8a-9db9-11ec-8cbe-0242ac1c0002\"] = google.colab.output.setActiveOutputArea(window[\"897b8314-9db9-11ec-8cbe-0242ac1c0002\"]);\n",
              "//# sourceURL=js_d4f423eb3a"
            ],
            "text/plain": [
              "<IPython.core.display.Javascript object>"
            ]
          },
          "metadata": {}
        },
        {
          "output_type": "display_data",
          "data": {
            "application/javascript": [
              "window[\"89988950-9db9-11ec-8cbe-0242ac1c0002\"] = google.colab.output.setActiveOutputArea(window[\"897b199c-9db9-11ec-8cbe-0242ac1c0002\"]);\n",
              "//# sourceURL=js_5dc731a49d"
            ],
            "text/plain": [
              "<IPython.core.display.Javascript object>"
            ]
          },
          "metadata": {}
        },
        {
          "output_type": "display_data",
          "data": {
            "application/javascript": [
              "window[\"8a358372-9db9-11ec-8cbe-0242ac1c0002\"] = google.colab.output.getActiveOutputArea();\n",
              "//# sourceURL=js_8d639a4263"
            ],
            "text/plain": [
              "<IPython.core.display.Javascript object>"
            ]
          },
          "metadata": {}
        },
        {
          "output_type": "display_data",
          "data": {
            "application/javascript": [
              "window[\"8a3609e6-9db9-11ec-8cbe-0242ac1c0002\"] = document.querySelector(\"#id104-0-0\");\n",
              "//# sourceURL=js_c237518079"
            ],
            "text/plain": [
              "<IPython.core.display.Javascript object>"
            ]
          },
          "metadata": {}
        },
        {
          "output_type": "display_data",
          "data": {
            "application/javascript": [
              "window[\"8a36d358-9db9-11ec-8cbe-0242ac1c0002\"] = google.colab.output.setActiveOutputArea(window[\"8a3609e6-9db9-11ec-8cbe-0242ac1c0002\"]);\n",
              "//# sourceURL=js_cace098c62"
            ],
            "text/plain": [
              "<IPython.core.display.Javascript object>"
            ]
          },
          "metadata": {}
        },
        {
          "output_type": "display_data",
          "data": {
            "application/javascript": [
              "window[\"8a545338-9db9-11ec-8cbe-0242ac1c0002\"] = google.colab.output.setActiveOutputArea(window[\"8a358372-9db9-11ec-8cbe-0242ac1c0002\"]);\n",
              "//# sourceURL=js_5108cdf8df"
            ],
            "text/plain": [
              "<IPython.core.display.Javascript object>"
            ]
          },
          "metadata": {}
        },
        {
          "output_type": "display_data",
          "data": {
            "application/javascript": [
              "window[\"8af2fec0-9db9-11ec-8cbe-0242ac1c0002\"] = google.colab.output.getActiveOutputArea();\n",
              "//# sourceURL=js_45c7859148"
            ],
            "text/plain": [
              "<IPython.core.display.Javascript object>"
            ]
          },
          "metadata": {}
        },
        {
          "output_type": "display_data",
          "data": {
            "application/javascript": [
              "window[\"8af3ef2e-9db9-11ec-8cbe-0242ac1c0002\"] = document.querySelector(\"#id104-0-0\");\n",
              "//# sourceURL=js_8a8de45822"
            ],
            "text/plain": [
              "<IPython.core.display.Javascript object>"
            ]
          },
          "metadata": {}
        },
        {
          "output_type": "display_data",
          "data": {
            "application/javascript": [
              "window[\"8af4695e-9db9-11ec-8cbe-0242ac1c0002\"] = google.colab.output.setActiveOutputArea(window[\"8af3ef2e-9db9-11ec-8cbe-0242ac1c0002\"]);\n",
              "//# sourceURL=js_7560e49bea"
            ],
            "text/plain": [
              "<IPython.core.display.Javascript object>"
            ]
          },
          "metadata": {}
        },
        {
          "output_type": "display_data",
          "data": {
            "application/javascript": [
              "window[\"8b1d8e60-9db9-11ec-8cbe-0242ac1c0002\"] = google.colab.output.setActiveOutputArea(window[\"8af2fec0-9db9-11ec-8cbe-0242ac1c0002\"]);\n",
              "//# sourceURL=js_add543f0de"
            ],
            "text/plain": [
              "<IPython.core.display.Javascript object>"
            ]
          },
          "metadata": {}
        },
        {
          "output_type": "display_data",
          "data": {
            "application/javascript": [
              "window[\"8bbabd66-9db9-11ec-8cbe-0242ac1c0002\"] = google.colab.output.getActiveOutputArea();\n",
              "//# sourceURL=js_53399c80ef"
            ],
            "text/plain": [
              "<IPython.core.display.Javascript object>"
            ]
          },
          "metadata": {}
        },
        {
          "output_type": "display_data",
          "data": {
            "application/javascript": [
              "window[\"8bbb7c56-9db9-11ec-8cbe-0242ac1c0002\"] = document.querySelector(\"#id104-0-0\");\n",
              "//# sourceURL=js_08ddec1f65"
            ],
            "text/plain": [
              "<IPython.core.display.Javascript object>"
            ]
          },
          "metadata": {}
        },
        {
          "output_type": "display_data",
          "data": {
            "application/javascript": [
              "window[\"8bbbe56a-9db9-11ec-8cbe-0242ac1c0002\"] = google.colab.output.setActiveOutputArea(window[\"8bbb7c56-9db9-11ec-8cbe-0242ac1c0002\"]);\n",
              "//# sourceURL=js_49afe8792a"
            ],
            "text/plain": [
              "<IPython.core.display.Javascript object>"
            ]
          },
          "metadata": {}
        },
        {
          "output_type": "display_data",
          "data": {
            "application/javascript": [
              "window[\"8bd84fe8-9db9-11ec-8cbe-0242ac1c0002\"] = google.colab.output.setActiveOutputArea(window[\"8bbabd66-9db9-11ec-8cbe-0242ac1c0002\"]);\n",
              "//# sourceURL=js_21996b0b7d"
            ],
            "text/plain": [
              "<IPython.core.display.Javascript object>"
            ]
          },
          "metadata": {}
        },
        {
          "output_type": "display_data",
          "data": {
            "application/javascript": [
              "window[\"8c7485c0-9db9-11ec-8cbe-0242ac1c0002\"] = google.colab.output.getActiveOutputArea();\n",
              "//# sourceURL=js_e72ed50098"
            ],
            "text/plain": [
              "<IPython.core.display.Javascript object>"
            ]
          },
          "metadata": {}
        },
        {
          "output_type": "display_data",
          "data": {
            "application/javascript": [
              "window[\"8c755770-9db9-11ec-8cbe-0242ac1c0002\"] = document.querySelector(\"#id104-0-0\");\n",
              "//# sourceURL=js_25226967f7"
            ],
            "text/plain": [
              "<IPython.core.display.Javascript object>"
            ]
          },
          "metadata": {}
        },
        {
          "output_type": "display_data",
          "data": {
            "application/javascript": [
              "window[\"8c774076-9db9-11ec-8cbe-0242ac1c0002\"] = google.colab.output.setActiveOutputArea(window[\"8c755770-9db9-11ec-8cbe-0242ac1c0002\"]);\n",
              "//# sourceURL=js_05f61fe3b6"
            ],
            "text/plain": [
              "<IPython.core.display.Javascript object>"
            ]
          },
          "metadata": {}
        },
        {
          "output_type": "stream",
          "name": "stdout",
          "text": [
            "15\n",
            "Episode: 9\n"
          ]
        },
        {
          "output_type": "display_data",
          "data": {
            "image/png": "[encoded data removed]",
            "text/plain": [
              "<Figure size 432x288 with 1 Axes>"
            ]
          },
          "metadata": {
            "needs_background": "light"
          }
        },
        {
          "output_type": "display_data",
          "data": {
            "application/javascript": [
              "window[\"8cac2098-9db9-11ec-8cbe-0242ac1c0002\"] = google.colab.output.setActiveOutputArea(window[\"8c7485c0-9db9-11ec-8cbe-0242ac1c0002\"]);\n",
              "//# sourceURL=js_41e9532f59"
            ],
            "text/plain": [
              "<IPython.core.display.Javascript object>"
            ]
          },
          "metadata": {}
        },
        {
          "output_type": "stream",
          "name": "stdout",
          "text": [
            "4\n",
            "Training finished.\n",
            "\n",
            "Total Episodes: 10\n",
            "Total Timesteps: 60\n",
            "Total Penalties: 40\n",
            "Results after 10 episodes:\n",
            "Average timesteps per episode: 6.0\n",
            "Average penalties per episode: 4.0\n"
          ]
        },
        {
          "output_type": "display_data",
          "data": {
            "image/png": "[encoded data removed]",
            "text/plain": [
              "<Figure size 432x288 with 1 Axes>"
            ]
          },
          "metadata": {
            "needs_background": "light"
          }
        },
        {
          "output_type": "display_data",
          "data": {
            "image/png": "[encoded data removed]",
            "text/plain": [
              "<Figure size 432x288 with 1 Axes>"
            ]
          },
          "metadata": {
            "needs_background": "light"
          }
        }
      ]
    },
    {
      "cell_type": "code",
      "source": [
        ""
      ],
      "metadata": {
        "id": "cONFa5VIiC51"
      },
      "execution_count": 118,
      "outputs": []
    }
  ],
  "metadata": {
    "colab": {
      "collapsed_sections": [],
      "name": "Deterministic_Q.ipynb",
      "provenance": []
    },
    "kernelspec": {
      "display_name": "Python 3",
      "language": "python",
      "name": "python3"
    },
    "language_info": {
      "codemirror_mode": {
        "name": "ipython",
        "version": 3
      },
      "file_extension": ".py",
      "mimetype": "text/x-python",
      "name": "python",
      "nbconvert_exporter": "python",
      "pygments_lexer": "ipython3",
      "version": "3.9.5"
    }
  },
  "nbformat": 4,
  "nbformat_minor": 0
}